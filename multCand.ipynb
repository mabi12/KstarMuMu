{
 "cells": [
  {
   "cell_type": "markdown",
   "id": "78bb7f3d",
   "metadata": {},
   "source": [
    "# import libraries and trees"
   ]
  },
  {
   "cell_type": "code",
   "execution_count": 1,
   "id": "c4ffb6c0",
   "metadata": {},
   "outputs": [],
   "source": [
    "#pip install -U uproot\n",
    "#pip install fpdf"
   ]
  },
  {
   "cell_type": "code",
   "execution_count": 1,
   "id": "4ff0e675",
   "metadata": {},
   "outputs": [
    {
     "name": "stdout",
     "output_type": "stream",
     "text": [
      "BmumuKst 1000\n"
     ]
    }
   ],
   "source": [
    "import numpy as np\n",
    "import uproot3 as uproot\n",
    "import uproot3_methods as um\n",
    "import collections\n",
    "import matplotlib.pyplot as plt\n",
    "# %matplotlib widget\n",
    "\n",
    "from matplotlib.backends.backend_pdf import PdfPages\n",
    "from itertools import chain\n",
    "\n",
    "from datetime import datetime\n",
    "\n",
    "name = \"BmumuKst\"\n",
    "file_name = \"./data/ntuple-300700_part_01.root\"\n",
    "tree_name = \"BaseSelection_KStarMuMu_BmumuKstSelection\"\n",
    "max_events = 1_000\n",
    "#max_events = -1 \n",
    "\n",
    "#priklad: load_string = \"/B_chi2_ndof|B_tau_MinA0|B_mass|B_trk1_pT|B_trk2_pT|B_trk1_charge|B_trk2_charge|B_trk1_eta|B_trk2_eta|B_trk1_phi|B_trk2_phi|B_mass_err|B_pT/\" \n",
    "load_string =\"/BmumuKst_+/\"\n",
    "\n",
    "print(name,max_events)"
   ]
  },
  {
   "cell_type": "markdown",
   "id": "751a9580",
   "metadata": {},
   "source": [
    "## load data"
   ]
  },
  {
   "cell_type": "code",
   "execution_count": 24,
   "id": "470c31ae",
   "metadata": {},
   "outputs": [
    {
     "ename": "TypeError",
     "evalue": "TTreeMethods.arrays() got an unexpected keyword argument 'library'",
     "output_type": "error",
     "traceback": [
      "\u001b[0;31m---------------------------------------------------------------------------\u001b[0m",
      "\u001b[0;31mTypeError\u001b[0m                                 Traceback (most recent call last)",
      "Cell \u001b[0;32mIn [24], line 5\u001b[0m\n\u001b[1;32m      1\u001b[0m allCand \u001b[38;5;241m=\u001b[39m uproot\u001b[38;5;241m.\u001b[39mopen(file_name)[\u001b[38;5;124m\"\u001b[39m\u001b[38;5;124mNominal/\u001b[39m\u001b[38;5;124m\"\u001b[39m\u001b[38;5;241m+\u001b[39mtree_name]\n\u001b[1;32m      4\u001b[0m \u001b[38;5;28;01mif\u001b[39;00m max_events \u001b[38;5;129;01mand\u001b[39;00m max_events \u001b[38;5;241m>\u001b[39m \u001b[38;5;241m0\u001b[39m:\n\u001b[0;32m----> 5\u001b[0m     vtx \u001b[38;5;241m=\u001b[39m  \u001b[43mallCand\u001b[49m\u001b[38;5;241;43m.\u001b[39;49m\u001b[43marrays\u001b[49m\u001b[43m(\u001b[49m\u001b[43mload_string\u001b[49m\u001b[43m,\u001b[49m\u001b[43m \u001b[49m\u001b[43moutputtype\u001b[49m\u001b[43m \u001b[49m\u001b[38;5;241;43m=\u001b[39;49m\u001b[43m \u001b[49m\u001b[43mcollections\u001b[49m\u001b[38;5;241;43m.\u001b[39;49m\u001b[43mnamedtuple\u001b[49m\u001b[43m,\u001b[49m\u001b[43m \u001b[49m\u001b[43mentrystop\u001b[49m\u001b[43m \u001b[49m\u001b[38;5;241;43m=\u001b[39;49m\u001b[43m \u001b[49m\u001b[43mmax_events\u001b[49m\u001b[43m,\u001b[49m\u001b[43m \u001b[49m\u001b[43mlibrary\u001b[49m\u001b[38;5;241;43m=\u001b[39;49m\u001b[38;5;124;43m\"\u001b[39;49m\u001b[38;5;124;43mpd\u001b[39;49m\u001b[38;5;124;43m\"\u001b[39;49m\u001b[43m)\u001b[49m \n\u001b[1;32m      6\u001b[0m \u001b[38;5;28;01melse\u001b[39;00m:\n\u001b[1;32m      7\u001b[0m     vtx \u001b[38;5;241m=\u001b[39m  allCand\u001b[38;5;241m.\u001b[39marrays(load_string, outputtype \u001b[38;5;241m=\u001b[39m collections\u001b[38;5;241m.\u001b[39mnamedtuple)\n",
      "\u001b[0;31mTypeError\u001b[0m: TTreeMethods.arrays() got an unexpected keyword argument 'library'"
     ]
    }
   ],
   "source": [
    "allCand = uproot.open(file_name)[\"Nominal/\"+tree_name]\n",
    "\n",
    "\n",
    "if max_events and max_events > 0:\n",
    "    vtx =  allCand.arrays(load_string, outputtype = collections.namedtuple, entrystop = max_events,) \n",
    "else:\n",
    "    vtx =  allCand.arrays(load_string, outputtype = collections.namedtuple)\n",
    "    \n",
    "print(\"data loaded\",datetime.now().strftime(\"%d/%m/%Y - %H:%M:%S\"))\n",
    "print(\"shape:\",np.shape(vtx))\n",
    "print(vtx)\n",
    "\n"
   ]
  },
  {
   "cell_type": "code",
   "execution_count": 9,
   "id": "ef16ba82",
   "metadata": {},
   "outputs": [
    {
     "data": {
      "image/png": "[encoded data removed]",
      "text/plain": [
       "<Figure size 640x480 with 1 Axes>"
      ]
     },
     "metadata": {},
     "output_type": "display_data"
    }
   ],
   "source": [
    "plt.hist(vtx.BmumuKst_B_mass)\n",
    "plt.show()\n"
   ]
  },
  {
   "cell_type": "markdown",
   "id": "0390f5bb",
   "metadata": {},
   "source": [
    "## TODO plot data"
   ]
  },
  {
   "cell_type": "code",
   "execution_count": 23,
   "id": "5b6953ec",
   "metadata": {},
   "outputs": [
    {
     "ename": "TypeError",
     "evalue": "tuple indices must be integers or slices, not str",
     "output_type": "error",
     "traceback": [
      "\u001b[0;31m---------------------------------------------------------------------------\u001b[0m",
      "\u001b[0;31mTypeError\u001b[0m                                 Traceback (most recent call last)",
      "Cell \u001b[0;32mIn [23], line 3\u001b[0m\n\u001b[1;32m      1\u001b[0m \u001b[38;5;66;03m# plt.hist(vtx.BmumuKst_B_mass)\u001b[39;00m\n\u001b[1;32m      2\u001b[0m \u001b[38;5;66;03m# plt.show()\u001b[39;00m\n\u001b[0;32m----> 3\u001b[0m \u001b[38;5;28mprint\u001b[39m(\u001b[43mvtx\u001b[49m\u001b[43m[\u001b[49m\u001b[38;5;124;43m\"\u001b[39;49m\u001b[38;5;124;43mBmumuKst_B_mass\u001b[39;49m\u001b[38;5;124;43m\"\u001b[39;49m\u001b[43m]\u001b[49m)\n\u001b[1;32m      5\u001b[0m pole_poli \u001b[38;5;241m=\u001b[39m vtx\u001b[38;5;241m.\u001b[39mBmumuKst_B_mass\n\u001b[1;32m      6\u001b[0m indexy \u001b[38;5;241m=\u001b[39m vtx\u001b[38;5;241m.\u001b[39mBmumuKst_B_mass\u001b[38;5;241m>\u001b[39m\u001b[38;5;241m5000\u001b[39m\n",
      "\u001b[0;31mTypeError\u001b[0m: tuple indices must be integers or slices, not str"
     ]
    }
   ],
   "source": [
    "# plt.hist(vtx.BmumuKst_B_mass)\n",
    "# plt.show()\n",
    "print(vtx[\"BmumuKst_B_mass\"])\n",
    "\n",
    "pole_poli = vtx.BmumuKst_B_mass\n",
    "indexy = vtx.BmumuKst_B_mass>5000\n",
    "print (pole_poli[indexy])\n",
    "pole = np.concatenate( pole_poli, axis=0 )\n",
    "\n",
    "print(\"pole_poli\", len(pole_poli))\n",
    "print(pole_poli)\n",
    "print()\n",
    "print(\"pole\", len(pole))\n",
    "print(pole)\n",
    "kolko_kandidatov_v_jednom_evente = [len(event_pole) for event_pole in pole_poli]\n",
    "print()\n",
    "print(kolko_kandidatov_v_jednom_evente)"
   ]
  },
  {
   "cell_type": "markdown",
   "id": "8218ce3b",
   "metadata": {},
   "source": [
    "## later TODO prepare cuts"
   ]
  },
  {
   "cell_type": "code",
   "execution_count": null,
   "id": "158e9433",
   "metadata": {},
   "outputs": [],
   "source": [
    "from Naming.cuts import cuts_run1, var\n"
   ]
  },
  {
   "cell_type": "code",
   "execution_count": 20,
   "id": "0cf35f80",
   "metadata": {},
   "outputs": [
    {
     "ename": "SyntaxError",
     "evalue": "invalid syntax. Perhaps you forgot a comma? (158197989.py, line 2)",
     "output_type": "error",
     "traceback": [
      "\u001b[0;36m  Cell \u001b[0;32mIn [20], line 2\u001b[0;36m\u001b[0m\n\u001b[0;31m    pole_poli = [[3000, 4000, 5500,5100], [5100,5300],....pt eta ]\u001b[0m\n\u001b[0m                                                      ^\u001b[0m\n\u001b[0;31mSyntaxError\u001b[0m\u001b[0;31m:\u001b[0m invalid syntax. Perhaps you forgot a comma?\n"
     ]
    }
   ],
   "source": []
  },
  {
   "cell_type": "code",
   "execution_count": 15,
   "id": "4066160f",
   "metadata": {},
   "outputs": [
    {
     "ename": "NameError",
     "evalue": "name 'useTriggers' is not defined",
     "output_type": "error",
     "traceback": [
      "\u001b[0;31m---------------------------------------------------------------------------\u001b[0m",
      "\u001b[0;31mNameError\u001b[0m                                 Traceback (most recent call last)",
      "Cell \u001b[0;32mIn [15], line 37\u001b[0m\n\u001b[1;32m     34\u001b[0m     ptMax \u001b[38;5;241m=\u001b[39m \u001b[38;5;241m100\u001b[39m;\n\u001b[1;32m     35\u001b[0m     muCut \u001b[38;5;241m=\u001b[39m \u001b[38;5;241m6000\u001b[39m\n\u001b[0;32m---> 37\u001b[0m \u001b[38;5;28;01mif\u001b[39;00m \u001b[38;5;129;01mnot\u001b[39;00m \u001b[43museTriggers\u001b[49m: \n\u001b[1;32m     38\u001b[0m     cuts \u001b[38;5;241m=\u001b[39m {}  \n\u001b[1;32m     39\u001b[0m     newCuts \u001b[38;5;241m=\u001b[39m \u001b[38;5;28;01mTrue\u001b[39;00m\n",
      "\u001b[0;31mNameError\u001b[0m: name 'useTriggers' is not defined"
     ]
    }
   ],
   "source": [
    "applyCuts = True\n",
    "\n",
    "if name == \"Bd\":\n",
    "    massMin = 5000;\n",
    "    massMax = 5650;\n",
    "\n",
    "    tauMin = -2;\n",
    "    tauMax = 20;\n",
    "\n",
    "    tauErrMin = .018;\n",
    "    tauErrMax = .12;\n",
    "\n",
    "    massErrMin = 10;\n",
    "    massErrMax = 100;\n",
    "\n",
    "    ptMin = 10;\n",
    "    ptMax = 100;\n",
    "    muCut = 4000\n",
    "\n",
    "elif name == \"Bplus\":\n",
    "    massMin = 5000;\n",
    "    massMax = 5600;\n",
    "\n",
    "    tauMin = -2;\n",
    "    tauMax = 30;\n",
    "\n",
    "    tauErrMin = .018;\n",
    "    tauErrMax = .165;\n",
    "\n",
    "    massErrMin = 0;\n",
    "    massErrMax = 100;\n",
    "\n",
    "    ptMin = 0;\n",
    "    ptMax = 100;\n",
    "    muCut = 6000\n",
    "    \n",
    "if not useTriggers: \n",
    "    cuts = {}  \n",
    "    newCuts = True\n",
    "else: \n",
    "    cuts = {\"trig\" : trigs}\n",
    "    newCuts = trigs\n",
    "######if(year == \"2017\"){\n",
    "newCuts = newCuts * (vtx.run_number>=324320) * (vtx.run_number < 341649)\n",
    "cuts[\"run_number\"] = newCuts\n",
    "helpCut = (abs(vtx.B_mu1_eta)<=1.05) * (abs(vtx.B_mu2_eta)<=1.05 )  * ( vtx.B_Jpsi_mass<3229 ) *(vtx.B_Jpsi_mass>2959)\n",
    "helpCut = helpCut |  ( abs(vtx.B_mu1_eta)>1.05) * (abs(vtx.B_mu1_eta)<=2.5) * (abs(vtx.B_mu2_eta)>1.05) * (abs(vtx.B_mu2_eta)<=2.5 ) * ( vtx.B_Jpsi_mass>2852 ) * ( vtx.B_Jpsi_mass<3332 ) \n",
    "helpCut2 = (abs(vtx.B_mu1_eta)<=1.05) * (abs(vtx.B_mu2_eta)>1.05) * (abs(vtx.B_mu2_eta)<=2.5) | (abs(vtx.B_mu1_eta)>1.05) * (abs(vtx.B_mu1_eta)<=2.5) * (abs(vtx.B_mu2_eta)<=1.05) \n",
    "helpCut2 = helpCut2 * (vtx.B_Jpsi_mass>2913) * (vtx.B_Jpsi_mass<3273)\n",
    "helpCuts = helpCut | helpCut2\n",
    "newCuts = newCuts * helpCuts\n",
    "cuts[\"jpsi\"] = newCuts\n",
    "newCuts = newCuts * (vtx.B_tau_MinA0>tauMin)*(vtx.B_tau_MinA0<tauMax)\n",
    "cuts[\"tau\"] = newCuts\n",
    "newCuts = newCuts * (vtx.B_tau_MinA0_err>tauErrMin)*(vtx.B_tau_MinA0_err<tauErrMax)\n",
    "cuts[\"tau_err\"] =  newCuts\n",
    "newCuts = newCuts * (vtx.B_mass>massMin)*(vtx.B_mass<massMax)\n",
    "cuts[\"mass\"] =  newCuts\n",
    "newCuts = newCuts * (vtx.B_mass_err>massErrMin)*(vtx.B_mass_err<massErrMax)\n",
    "cuts[\"mass_err in \"+str(massErrMin)+\" , \"+str(massErrMax)] =  newCuts\n",
    "newCuts = newCuts * (vtx.B_mu1_pT>muCut)*(vtx.B_mu2_pT>muCut)\n",
    "cuts[\"mu_pt > \"+str(muCut)] =  newCuts\n",
    "newCuts = newCuts * (vtx.pass_GRL)\n",
    "cuts[\"good run list\"] =  newCuts\n",
    "newCuts = newCuts * (vtx.B_p\n",
    "                     T>10000)\n",
    "cuts[\"B_pt>10000\"] =  newCuts\n",
    "if name == \"Bd\":\n",
    "    newCuts = newCuts * (vtx.B_trk1_pT>1400) \n",
    "    cuts[\"trk1_pt > 1400\"] =  newCuts\n",
    "    newCuts = newCuts * (vtx.B_trk2_pT>1000)\n",
    "    cuts[\"trk2_pt > 1000\"] =  newCuts\n",
    "elif name == \"Bplus\":\n",
    "    newCuts = newCuts * (vtx.B_chi2_ndof<3)\n",
    "    cuts[\"chi2/ndof\"] =  newCuts\n",
    "    newCuts = newCuts * (vtx.B_trk1_pT>2500) \n",
    "    cuts[\"trk1_pt > 2500\"] =  newCuts\n",
    "    \n",
    "finalCuts = newCuts\n",
    "\n",
    "#############################pT cuts##########################################\n",
    "\n",
    "if name == \"Bd\":\n",
    "    pTcuts = [[1500,1000],[1700,1000],[2000,1000],[2300,1000],\n",
    "         [1500,1200],[1700,1200],[2000,1200],[2300,1200],\n",
    "         [1500,1500],[1700,1500],[2000,1500],[2300,1500]]\n",
    "    \n",
    "elif name == \"Bplus\":\n",
    "    pTcuts = [[2500],[3000],[3500],[4000],]#[4500]]\n",
    "    \n",
    "for i,c in enumerate(pTcuts):\n",
    "    \n",
    "    newCuts = finalCuts * (vtx.B_trk1_pT>c[0]) \n",
    "    namePtCut = \"pT(kaon) > \" + str(c[0]) \n",
    "    if name == \"Bd\": \n",
    "        newCuts =  newCuts * (vtx.B_trk2_pT>c[1])\n",
    "        namePtCut += \" && pT(pion) > \" + str(c[1])\n",
    "    cuts[namePtCut] = newCuts\n",
    "    \n",
    "print(\"cuts prepared\",datetime.now().strftime(\"%d/%m/%Y - %H:%M:%S\"))\n",
    "for c in cuts.keys():\n",
    "    print(c)\n"
   ]
  },
  {
   "cell_type": "markdown",
   "id": "f63c0d97",
   "metadata": {},
   "source": [
    "## count number of candidates and find their position\n"
   ]
  },
  {
   "cell_type": "code",
   "execution_count": 10,
   "id": "df3c067b",
   "metadata": {},
   "outputs": [],
   "source": [
    "from fpdf import FPDF"
   ]
  },
  {
   "cell_type": "code",
   "execution_count": 23,
   "id": "59e20b49",
   "metadata": {},
   "outputs": [
    {
     "name": "stdout",
     "output_type": "stream",
     "text": [
      "948499 1017940 54554 4152558\n"
     ]
    }
   ],
   "source": [
    "ccc = cuts['pT(kaon) > 2300 && pT(pion) > 1500']\n",
    "chis = vtx.B_chi2_ndof[ccc]\n",
    "chis=np.array(chis)\n",
    "taus = vtx.B_tau_MinA0[ccc]\n",
    "taus = np.array(taus)\n",
    "masses = vtx.B_mass[ccc]\n",
    "masses = np.array(masses)\n",
    "tr1Pts = vtx.B_trk1_pT[ccc]\n",
    "tr1Pts = np.array(tr1Pts)\n",
    "if name == \"Bd\":\n",
    "    tr2Pts = vtx.B_trk2_pT[ccc]\n",
    "    tr2Pts = np.array(tr2Pts)\n",
    "\n",
    "#print(len(vtx.evt_number),len(np.unique(vtx.evt_number)),len(vtx.B_chi2_ndof))\n",
    "nCandidates = [len(chi) for chi in chis ]\n",
    "nCandidates = np.array(nCandidates)\n",
    "multipleCandidates = [nCand>1 for nCand in nCandidates ]\n",
    "multipleCandidates = np.array(multipleCandidates)\n",
    "singleCandidate = [not mc for mc in multipleCandidates]\n",
    "singleCandidate = np.array(singleCandidate)\n",
    "nEvents = np.sum((nCandidates>=1))\n",
    "\n",
    "print(nEvents,np.sum(nCandidates),np.sum(multipleCandidates),np.sum(singleCandidate))"
   ]
  },
  {
   "cell_type": "code",
   "execution_count": 24,
   "id": "090c8ea0",
   "metadata": {},
   "outputs": [
    {
     "name": "stdout",
     "output_type": "stream",
     "text": [
      "948499 1017940 54554 4152558 4207112\n"
     ]
    },
    {
     "name": "stderr",
     "output_type": "stream",
     "text": [
      "<ipython-input-24-8d226037d7fa>:2: DeprecationWarning: The truth value of an empty array is ambiguous. Returning False, but in future this will result in an error. Use `array.size > 0` to check that an array is not empty.\n",
      "  print(min(masses),max(masses))\n"
     ]
    },
    {
     "ename": "ValueError",
     "evalue": "operands could not be broadcast together with shapes (3,) (0,) ",
     "output_type": "error",
     "traceback": [
      "\u001b[0;31m---------------------------------------------------------------------------\u001b[0m",
      "\u001b[0;31mValueError\u001b[0m                                Traceback (most recent call last)",
      "\u001b[0;32m<ipython-input-24-8d226037d7fa>\u001b[0m in \u001b[0;36m<module>\u001b[0;34m\u001b[0m\n\u001b[1;32m      1\u001b[0m \u001b[0mprint\u001b[0m\u001b[0;34m(\u001b[0m\u001b[0mnEvents\u001b[0m\u001b[0;34m,\u001b[0m\u001b[0mnp\u001b[0m\u001b[0;34m.\u001b[0m\u001b[0msum\u001b[0m\u001b[0;34m(\u001b[0m\u001b[0mnCandidates\u001b[0m\u001b[0;34m)\u001b[0m\u001b[0;34m,\u001b[0m\u001b[0mnp\u001b[0m\u001b[0;34m.\u001b[0m\u001b[0msum\u001b[0m\u001b[0;34m(\u001b[0m\u001b[0mmultipleCandidates\u001b[0m\u001b[0;34m)\u001b[0m\u001b[0;34m,\u001b[0m\u001b[0mnp\u001b[0m\u001b[0;34m.\u001b[0m\u001b[0msum\u001b[0m\u001b[0;34m(\u001b[0m\u001b[0msingleCandidate\u001b[0m\u001b[0;34m)\u001b[0m\u001b[0;34m,\u001b[0m\u001b[0mnp\u001b[0m\u001b[0;34m.\u001b[0m\u001b[0msum\u001b[0m\u001b[0;34m(\u001b[0m\u001b[0mmultipleCandidates\u001b[0m\u001b[0;34m)\u001b[0m\u001b[0;34m+\u001b[0m\u001b[0mnp\u001b[0m\u001b[0;34m.\u001b[0m\u001b[0msum\u001b[0m\u001b[0;34m(\u001b[0m\u001b[0msingleCandidate\u001b[0m\u001b[0;34m)\u001b[0m\u001b[0;34m)\u001b[0m\u001b[0;34m\u001b[0m\u001b[0;34m\u001b[0m\u001b[0m\n\u001b[0;32m----> 2\u001b[0;31m \u001b[0mprint\u001b[0m\u001b[0;34m(\u001b[0m\u001b[0mmin\u001b[0m\u001b[0;34m(\u001b[0m\u001b[0mmasses\u001b[0m\u001b[0;34m)\u001b[0m\u001b[0;34m,\u001b[0m\u001b[0mmax\u001b[0m\u001b[0;34m(\u001b[0m\u001b[0mmasses\u001b[0m\u001b[0;34m)\u001b[0m\u001b[0;34m)\u001b[0m\u001b[0;34m\u001b[0m\u001b[0;34m\u001b[0m\u001b[0m\n\u001b[0m",
      "\u001b[0;31mValueError\u001b[0m: operands could not be broadcast together with shapes (3,) (0,) "
     ]
    }
   ],
   "source": [
    "print(nEvents,np.sum(nCandidates),np.sum(multipleCandidates),np.sum(singleCandidate),np.sum(multipleCandidates)+np.sum(singleCandidate))\n",
    "#print(min(masses),max(masses))"
   ]
  },
  {
   "cell_type": "code",
   "execution_count": 14,
   "id": "af761c76",
   "metadata": {},
   "outputs": [
    {
     "name": "stdout",
     "output_type": "stream",
     "text": [
      "\u001b[1mBd 2017  \u001b[0m\n",
      "nEvents 8566126 8566126\n",
      "nEventsWithMultipleCandidates: 1781776 nEventsWithSingleCandidate: 6784350 nCandidates: 11264612\n",
      "20.80% events have multiple candidates 1.32\n",
      "\n",
      "\u001b[1mtrig\u001b[0m\n",
      "nEventsAfterCut: 6983318 nEventsAfterCut/nEvents: 81.52%\n",
      "nEventsWithMultipleCandidates: 1330019 nEventsWithSingleCandidate: 5653299 nCandidates: 8926409\n",
      "19.05% events have multiple candidates; mean(nCandidatesPerEvent): 1.28 ; mean(nCandidatesPerEvent): 2.46\n",
      "\n",
      "\u001b[1mrun_number\u001b[0m\n",
      "nEventsAfterCut: 6983318 nEventsAfterCut/nEvents: 81.52%\n",
      "nEventsWithMultipleCandidates: 1330019 nEventsWithSingleCandidate: 5653299 nCandidates: 8926409\n",
      "19.05% events have multiple candidates; mean(nCandidatesPerEvent): 1.28 ; mean(nCandidatesPerEvent): 2.46\n",
      "\n",
      "\u001b[1mjpsi\u001b[0m\n",
      "nEventsAfterCut: 6939301 nEventsAfterCut/nEvents: 81.01%\n",
      "nEventsWithMultipleCandidates: 1322483 nEventsWithSingleCandidate: 5616818 nCandidates: 8870985\n",
      "19.06% events have multiple candidates; mean(nCandidatesPerEvent): 1.28 ; mean(nCandidatesPerEvent): 2.46\n",
      "\n",
      "\u001b[1mtau\u001b[0m\n",
      "nEventsAfterCut: 6939288 nEventsAfterCut/nEvents: 81.01%\n",
      "nEventsWithMultipleCandidates: 1322482 nEventsWithSingleCandidate: 5616806 nCandidates: 8870971\n",
      "19.06% events have multiple candidates; mean(nCandidatesPerEvent): 1.28 ; mean(nCandidatesPerEvent): 2.46\n",
      "\n",
      "\u001b[1mtau_err\u001b[0m\n",
      "nEventsAfterCut: 6882779 nEventsAfterCut/nEvents: 80.35%\n",
      "nEventsWithMultipleCandidates: 1305658 nEventsWithSingleCandidate: 5577121 nCandidates: 8786915\n",
      "18.97% events have multiple candidates; mean(nCandidatesPerEvent): 1.28 ; mean(nCandidatesPerEvent): 2.46\n",
      "\n",
      "\u001b[1mmass\u001b[0m\n",
      "nEventsAfterCut: 5351881 nEventsAfterCut/nEvents: 62.48%\n",
      "nEventsWithMultipleCandidates: 828890 nEventsWithSingleCandidate: 4522991 nCandidates: 6483366\n",
      "15.49% events have multiple candidates; mean(nCandidatesPerEvent): 1.21 ; mean(nCandidatesPerEvent): 2.37\n",
      "\n",
      "\u001b[1mmass_err in 10 , 100\u001b[0m\n",
      "nEventsAfterCut: 5227266 nEventsAfterCut/nEvents: 61.02%\n",
      "nEventsWithMultipleCandidates: 791156 nEventsWithSingleCandidate: 4436110 nCandidates: 6300333\n",
      "15.14% events have multiple candidates; mean(nCandidatesPerEvent): 1.21 ; mean(nCandidatesPerEvent): 2.36\n",
      "\n",
      "\u001b[1mmu_pt > 4000\u001b[0m\n",
      "nEventsAfterCut: 5196430 nEventsAfterCut/nEvents: 60.66%\n",
      "nEventsWithMultipleCandidates: 781880 nEventsWithSingleCandidate: 4414550 nCandidates: 6253505\n",
      "15.05% events have multiple candidates; mean(nCandidatesPerEvent): 1.20 ; mean(nCandidatesPerEvent): 2.35\n",
      "\n",
      "\u001b[1mgood run list\u001b[0m\n",
      "nEventsAfterCut: 4999597 nEventsAfterCut/nEvents: 58.36%\n",
      "nEventsWithMultipleCandidates: 751994 nEventsWithSingleCandidate: 4247603 nCandidates: 6016183\n",
      "15.04% events have multiple candidates; mean(nCandidatesPerEvent): 1.20 ; mean(nCandidatesPerEvent): 2.35\n",
      "\n",
      "\u001b[1mB_pt>10000\u001b[0m\n",
      "nEventsAfterCut: 4999595 nEventsAfterCut/nEvents: 58.36%\n",
      "nEventsWithMultipleCandidates: 751992 nEventsWithSingleCandidate: 4247603 nCandidates: 6016179\n",
      "15.04% events have multiple candidates; mean(nCandidatesPerEvent): 1.20 ; mean(nCandidatesPerEvent): 2.35\n",
      "\n",
      "\u001b[1mtrk1_pt > 1400\u001b[0m\n",
      "nEventsAfterCut: 3155963 nEventsAfterCut/nEvents: 36.84%\n",
      "nEventsWithMultipleCandidates: 352292 nEventsWithSingleCandidate: 2803671 nCandidates: 3614433\n",
      "11.16% events have multiple candidates; mean(nCandidatesPerEvent): 1.15 ; mean(nCandidatesPerEvent): 2.30\n",
      "\n",
      "\u001b[1mtrk2_pt > 1000\u001b[0m\n",
      "nEventsAfterCut: 2412921 nEventsAfterCut/nEvents: 28.17%\n",
      "nEventsWithMultipleCandidates: 231906 nEventsWithSingleCandidate: 2181015 nCandidates: 2713490\n",
      "9.61% events have multiple candidates; mean(nCandidatesPerEvent): 1.12 ; mean(nCandidatesPerEvent): 2.30\n",
      "\n",
      "\u001b[1mpT(kaon) > 1500 && pT(pion) > 1000\u001b[0m\n",
      "nEventsAfterCut: 2213231 nEventsAfterCut/nEvents: 25.84%\n",
      "nEventsWithMultipleCandidates: 201549 nEventsWithSingleCandidate: 2011682 nCandidates: 2473346\n",
      "9.11% events have multiple candidates; mean(nCandidatesPerEvent): 1.12 ; mean(nCandidatesPerEvent): 2.29\n",
      "\n",
      "\u001b[1mpT(kaon) > 1700 && pT(pion) > 1000\u001b[0m\n",
      "nEventsAfterCut: 1887165 nEventsAfterCut/nEvents: 22.03%\n",
      "nEventsWithMultipleCandidates: 156425 nEventsWithSingleCandidate: 1730740 nCandidates: 2087523\n",
      "8.29% events have multiple candidates; mean(nCandidatesPerEvent): 1.11 ; mean(nCandidatesPerEvent): 2.28\n",
      "\n",
      "\u001b[1mpT(kaon) > 2000 && pT(pion) > 1000\u001b[0m\n",
      "nEventsAfterCut: 1524556 nEventsAfterCut/nEvents: 17.80%\n",
      "nEventsWithMultipleCandidates: 113028 nEventsWithSingleCandidate: 1411528 nCandidates: 1668110\n",
      "7.41% events have multiple candidates; mean(nCandidatesPerEvent): 1.09 ; mean(nCandidatesPerEvent): 2.27\n",
      "\n",
      "\u001b[1mpT(kaon) > 2300 && pT(pion) > 1000\u001b[0m\n",
      "nEventsAfterCut: 1263384 nEventsAfterCut/nEvents: 14.75%\n",
      "nEventsWithMultipleCandidates: 85819 nEventsWithSingleCandidate: 1177565 nCandidates: 1371735\n",
      "6.79% events have multiple candidates; mean(nCandidatesPerEvent): 1.09 ; mean(nCandidatesPerEvent): 2.26\n",
      "\n",
      "\u001b[1mpT(kaon) > 1500 && pT(pion) > 1200\u001b[0m\n",
      "nEventsAfterCut: 1784314 nEventsAfterCut/nEvents: 20.83%\n",
      "nEventsWithMultipleCandidates: 146680 nEventsWithSingleCandidate: 1637634 nCandidates: 1973698\n",
      "8.22% events have multiple candidates; mean(nCandidatesPerEvent): 1.11 ; mean(nCandidatesPerEvent): 2.29\n",
      "\n",
      "\u001b[1mpT(kaon) > 1700 && pT(pion) > 1200\u001b[0m\n",
      "nEventsAfterCut: 1552069 nEventsAfterCut/nEvents: 18.12%\n",
      "nEventsWithMultipleCandidates: 116111 nEventsWithSingleCandidate: 1435958 nCandidates: 1700994\n",
      "7.48% events have multiple candidates; mean(nCandidatesPerEvent): 1.10 ; mean(nCandidatesPerEvent): 2.28\n",
      "\n",
      "\u001b[1mpT(kaon) > 2000 && pT(pion) > 1200\u001b[0m\n",
      "nEventsAfterCut: 1289657 nEventsAfterCut/nEvents: 15.06%\n",
      "nEventsWithMultipleCandidates: 86361 nEventsWithSingleCandidate: 1203296 nCandidates: 1399554\n",
      "6.70% events have multiple candidates; mean(nCandidatesPerEvent): 1.09 ; mean(nCandidatesPerEvent): 2.27\n",
      "\n",
      "\u001b[1mpT(kaon) > 2300 && pT(pion) > 1200\u001b[0m\n",
      "nEventsAfterCut: 1092237 nEventsAfterCut/nEvents: 12.75%\n",
      "nEventsWithMultipleCandidates: 67120 nEventsWithSingleCandidate: 1025117 nCandidates: 1177189\n",
      "6.15% events have multiple candidates; mean(nCandidatesPerEvent): 1.08 ; mean(nCandidatesPerEvent): 2.27\n",
      "\n",
      "\u001b[1mpT(kaon) > 1500 && pT(pion) > 1500\u001b[0m\n",
      "nEventsAfterCut: 1372482 nEventsAfterCut/nEvents: 16.02%\n",
      "nEventsWithMultipleCandidates: 101332 nEventsWithSingleCandidate: 1271150 nCandidates: 1503246\n",
      "7.38% events have multiple candidates; mean(nCandidatesPerEvent): 1.10 ; mean(nCandidatesPerEvent): 2.29\n",
      "\n",
      "\u001b[1mpT(kaon) > 1700 && pT(pion) > 1500\u001b[0m\n",
      "nEventsAfterCut: 1217160 nEventsAfterCut/nEvents: 14.21%\n",
      "nEventsWithMultipleCandidates: 81368 nEventsWithSingleCandidate: 1135792 nCandidates: 1321642\n",
      "6.69% events have multiple candidates; mean(nCandidatesPerEvent): 1.09 ; mean(nCandidatesPerEvent): 2.28\n",
      "\n",
      "\u001b[1mpT(kaon) > 2000 && pT(pion) > 1500\u001b[0m\n",
      "nEventsAfterCut: 1039633 nEventsAfterCut/nEvents: 12.14%\n",
      "nEventsWithMultipleCandidates: 62104 nEventsWithSingleCandidate: 977529 nCandidates: 1118789\n",
      "5.97% events have multiple candidates; mean(nCandidatesPerEvent): 1.08 ; mean(nCandidatesPerEvent): 2.27\n",
      "\n",
      "\u001b[1mpT(kaon) > 2300 && pT(pion) > 1500\u001b[0m\n",
      "nEventsAfterCut: 902942 nEventsAfterCut/nEvents: 10.54%\n",
      "nEventsWithMultipleCandidates: 49552 nEventsWithSingleCandidate: 853390 nCandidates: 965726\n",
      "5.49% events have multiple candidates; mean(nCandidatesPerEvent): 1.07 ; mean(nCandidatesPerEvent): 2.27\n",
      "\n"
     ]
    }
   ],
   "source": [
    "pdf = FPDF()\n",
    "pdf.add_page()\n",
    "pdf.set_font(\"Times\", 'B', size = 15)\n",
    "  \n",
    "# create a cell\n",
    "pdf.cell(200, 10, txt = name + ' 2017 old ', \n",
    "         ln = 1, align = 'C')\n",
    "\n",
    "pdf.set_font(\"Times\", size = 12)\n",
    "pdf.set_text_color(200,200,200);\n",
    "\n",
    "# add another cell\n",
    "pdf.cell(200, 8, txt = file_name,\n",
    "         ln = 2, align = 'C')\n",
    "pdf.cell(200, 6, txt = \"Marek Biros\",\n",
    "         ln = 3, align = 'C')\n",
    "  \n",
    "# save the pdf with name .pdf\n",
    "pdf.set_text_color(0,0,0);\n",
    "\n",
    "pdf.set_font(\"Times\", 'BU', size = 12)\n",
    "line = 5\n",
    "pdf.cell(200, 8, txt = \"cutFlow\",\n",
    "         ln = line, align = 'C')\n",
    "line += 2\n",
    "\n",
    "print('\\033[1m' + name + ' 2017  \\033[0m')\n",
    "\n",
    "pdf.set_font(\"Times\",'B', size = 10)\n",
    "pdf.cell(200, 6, txt = \"no selection\", \n",
    "         ln = line, align = 'L')\n",
    "line += 1\n",
    "pdf.set_font(\"Times\", size = 10)\n",
    "pdf.cell(200, 5, txt = \"nEvents: \"+str(nEvents), \n",
    "         ln = line, align = 'L')\n",
    "line += 1\n",
    "pdf.cell(200, 5, txt = \"nEventsWithMultipleCandidates: \"+str(np.sum(multipleCandidates))+\"; nEventsWithSingleCandidate: \"+str(np.sum(singleCandidate))+\"; nCandidates: \"+str(np.sum(nCandidates)), \n",
    "         ln = line, align = 'L')\n",
    "line += 1\n",
    "pdf.cell(200, 5, txt = '{:2.2%}'.format(np.sum(multipleCandidates)/len(vtx.evt_number))+' events have multiple candidates; mean(nCandidatesPerEvent): {:0.2f}'.format(np.sum(nCandidates)/nEvents), \n",
    "         ln = line, align = 'L')\n",
    "line += 2\n",
    "\n",
    "pdf.line(10, 65, 200, 65)\n",
    "pdf.cell(200, 3, txt = \"\", \n",
    "         ln = line, align = 'L')\n",
    "\n",
    "print(\"nEvents\",nEvents,len(vtx.evt_number))\n",
    "print(\"nEventsWithMultipleCandidates:\",np.sum(multipleCandidates),\"nEventsWithSingleCandidate:\",np.sum(singleCandidate), \"nCandidates:\", np.sum(nCandidates))\n",
    "print('{:2.2%}'.format(np.sum(multipleCandidates)/nEvents),\"events have multiple candidates\",'{:0.2f}'.format(np.sum(nCandidates)/nEvents))\n",
    "print()\n",
    "\n",
    "nEventsAfterCut =0\n",
    "\n",
    "survived = []\n",
    "survivedMultCands = []\n",
    "meanMultCand = []\n",
    "for i, c in enumerate(cuts):\n",
    "    newCuts = cuts[c]\n",
    "    chis = vtx.B_chi2_ndof[newCuts] if applyCuts else vtx.B_chi2_ndof\n",
    "    chis=np.array(chis)\n",
    "    #taus = vtx.B_tau_MinA0[newCuts]  if applyCuts else vtx.B_tau_MinA0\n",
    "    #taus = np.array(taus)\n",
    "    #masses = vtx.B_mass[newCuts]  if applyCuts else vtx.B_mass\n",
    "    #masses = np.array(masses)\n",
    "    #tr1Pts = vtx.B_trk1_pT[newCuts]  if applyCuts else vtx.B_trk1_pT\n",
    "    #tr1Pts = np.array(tr1Pts)\n",
    "    #tr2Pts = vtx.B_trk2_pT[newCuts]\n",
    "    #tr2Pts = np.array(tr2Pts)\n",
    "\n",
    "    #print(len(vtx.evt_number),len(np.unique(vtx.evt_number)),len(vtx.B_chi2_ndof))\n",
    "    nCandidates = [len(chi) for chi in chis ]\n",
    "    nCandidates = np.array(nCandidates)\n",
    "    multipleCandidates = [nCand>1 for nCand in nCandidates ]\n",
    "    multipleCandidates = np.array(multipleCandidates)\n",
    "    singleCandidate = [nCand==1 for nCand in nCandidates ]\n",
    "    singleCandidate = np.array(singleCandidate)\n",
    "    print('\\033[1m' + c + '\\033[0m')\n",
    "    nEventsAfterCut = np.sum((nCandidates>=1))\n",
    "    eventSurvival = nEventsAfterCut/nEvents\n",
    "    evtsWithMultCand = np.sum(multipleCandidates)/nEventsAfterCut\n",
    "    meanNCandInMultCand = np.sum(nCandidates[nCandidates>1])/np.sum(multipleCandidates)\n",
    "    survivedMultCands.append(evtsWithMultCand)\n",
    "    meanMultCand.append(meanNCandInMultCand)\n",
    "    print(\"nEventsAfterCut:\",nEventsAfterCut,'nEventsAfterCut/nEvents: {:2.2%}'.format(eventSurvival),)\n",
    "    print(\"nEventsWithMultipleCandidates:\",np.sum(multipleCandidates),\"nEventsWithSingleCandidate:\",np.sum(singleCandidate), \"nCandidates:\", np.sum(nCandidates))\n",
    "    print('{:2.2%}'.format(evtsWithMultCand),\"events have multiple candidates;\",'mean(nCandidatesPerEvent): {:0.2f}'.format(np.sum(nCandidates)/nEventsAfterCut), \"; mean(nCandidatesPerEvent): {:0.2f}\".format(meanNCandInMultCand))\n",
    "    print()\n",
    "    \n",
    "    pdf.set_font(\"Times\",'B', size = 10)\n",
    "    pdf.cell(200, 6, txt = str(c), \n",
    "         ln = line, align = 'L')\n",
    "    line += 1\n",
    "    pdf.set_font(\"Times\", size = 10)\n",
    "    pdf.cell(200, 5, txt = \"nEventsAfterCut: \"+str(nEventsAfterCut)+'; nEventsAfterCut/nEvents: {:2.2%}'.format(eventSurvival), \n",
    "         ln = line, align = 'L')\n",
    "    line += 1\n",
    "    pdf.cell(200, 5, txt = \"nEventsWithMultipleCandidates: \"+str(np.sum(multipleCandidates))+\"; nEventsWithSingleCandidate: \"+str(np.sum(singleCandidate))+\"; nCandidates: \"+str(np.sum(nCandidates)), \n",
    "             ln = line, align = 'L')\n",
    "    line += 1\n",
    "    pdf.cell(200, 5, txt = '{:2.2%}'.format(np.sum(multipleCandidates)/nEventsAfterCut)+' events have multiple candidates; mean(nCandidatesPerEvent): {:0.2f}'.format(np.sum(nCandidates)/nEventsAfterCut) + \"; mean(nCandidatesPerEvent): {:0.2f}\".format(meanNCandInMultCand) , ln = line, align = 'L')\n",
    "    line += 2\n",
    "    survived.append(eventSurvival)"
   ]
  },
  {
   "cell_type": "code",
   "execution_count": 65,
   "id": "7227891f",
   "metadata": {},
   "outputs": [
    {
     "name": "stdout",
     "output_type": "stream",
     "text": [
      "[[False] [False] [False] ... [True False] [True] [False]]\n",
      "[[] [] [] ... [1.5205464] [1.1015977] []]\n",
      "[False False False False False False False False False False False False\n",
      " False False False False False False False False False False False False\n",
      " False False False False False False False False False False False False\n",
      " False False False False False False False False False False False False\n",
      " False False False False False False False False False False False False\n",
      " False False False False False False False False False False False False\n",
      " False False False False False False False False False False False False\n",
      " False False False False False False False False False False False False\n",
      " False False False False]\n",
      "4207112\n",
      "54554\n",
      "[[2.2836854 1.6008948 1.35151] [1.0879232 0.8871531] [1.1815917 1.0948616] ... [0.3649191 1.4677523] [0.43439028 0.7951656] [1.4222578 0.61095005]]\n",
      "[2, 1, 1, 5, 0, 1, 1, 0, 0, 1]\n",
      "[1.35151, 0.8871531, 1.0948616, 1.4515234, 0.78702927, 1.5402116, 1.4634506, 2.6432407, 0.42943677, 1.8823467]\n"
     ]
    }
   ],
   "source": [
    "print(newCuts[:100])\n",
    "print(vtx.B_chi2_ndof[newCuts ][:100])\n",
    "print(multipleCandidates[:100])\n",
    "print(len(vtx.B_chi2_ndof))\n",
    "print(len(vtx.B_chi2_ndof[multipleCandidates]))\n",
    "print(vtx.B_chi2_ndof[newCuts][multipleCandidates][:100])\n",
    "multipleChis=vtx.B_chi2_ndof[newCuts][multipleCandidates]\n",
    "a=[np.argmin(ch)  for ch in multipleChis]\n",
    "b=[ch[a[i]]  for i,ch in enumerate(multipleChis)]\n",
    "print(a[:10])\n",
    "print(b[:10])"
   ]
  },
  {
   "cell_type": "markdown",
   "id": "8e4a0669",
   "metadata": {},
   "source": [
    "## Effect of selection after cuts on multipleCuts"
   ]
  },
  {
   "cell_type": "code",
   "execution_count": 49,
   "id": "d62a7719",
   "metadata": {},
   "outputs": [
    {
     "name": "stdout",
     "output_type": "stream",
     "text": [
      "cuts prepared 15/10/2021 - 18:24:26\n",
      "_1000_500\n",
      "_1400_1000\n",
      "_1500_1200\n",
      "_1700_1200\n",
      "_1700_1500\n",
      "_2500_1700\n"
     ]
    }
   ],
   "source": [
    "if name == \"Bd\":\n",
    "    pTcuts = [[1000,500],[1400,1000],[1500,1200],[1700,1200],[1700,1500],[2500,1700]]\n",
    "    \n",
    "elif name == \"Bplus\":\n",
    "    pTcuts = [[2500],[3000],[3500],[4000],]#[4500]]\n",
    "\n",
    "cuts = {}    \n",
    "finalCuts = True\n",
    "for i,c in enumerate(pTcuts):\n",
    "    \n",
    "    newCuts =  (vtx.B_trk1_pT>c[0]) \n",
    "    namePtCut = \"_\" + str(c[0]) \n",
    "    if name == \"Bd\": \n",
    "        newCuts =  newCuts * (vtx.B_trk2_pT>c[1])\n",
    "        namePtCut += \"_\" + str(c[1])\n",
    "    cuts[namePtCut] = newCuts\n",
    "    \n",
    "print(\"cuts prepared\",datetime.now().strftime(\"%d/%m/%Y - %H:%M:%S\"))\n",
    "for c in cuts.keys():\n",
    "    print(c)"
   ]
  },
  {
   "cell_type": "code",
   "execution_count": 83,
   "id": "6e35c130",
   "metadata": {},
   "outputs": [
    {
     "name": "stdout",
     "output_type": "stream",
     "text": [
      "############### \u001b[1m_1000_500\u001b[0m ###############\n",
      "\u001b[1mChi2/ndf\u001b[0m\n",
      "allCand 4480260 1.1490172 0.5950929\n"
     ]
    },
    {
     "data": {
      "application/vnd.jupyter.widget-view+json": {
       "model_id": "",
       "version_major": 2,
       "version_minor": 0
      },
      "text/plain": [
       "Canvas(toolbar=Toolbar(toolitems=[('Home', 'Reset original view', 'home', 'home'), ('Back', 'Back to previous …"
      ]
     },
     "metadata": {},
     "output_type": "display_data"
    },
    {
     "name": "stdout",
     "output_type": "stream",
     "text": [
      "bestChi 1781775 0.89703393 0.5113423\n",
      "wrstChi 1781775 1.4265062 0.58973724\n",
      "rndmChi 1781775 1.1542251 0.5971172\n",
      "\u001b[1mLifetime\u001b[0m\n",
      "allCand 4480260 0.038997248 0.16602725\n"
     ]
    },
    {
     "data": {
      "application/vnd.jupyter.widget-view+json": {
       "model_id": "",
       "version_major": 2,
       "version_minor": 0
      },
      "text/plain": [
       "Canvas(toolbar=Toolbar(toolitems=[('Home', 'Reset original view', 'home', 'home'), ('Back', 'Back to previous …"
      ]
     },
     "metadata": {},
     "output_type": "display_data"
    },
    {
     "name": "stdout",
     "output_type": "stream",
     "text": [
      "bestChi 1781775 0.04485404 0.17923102\n",
      "wrstChi 1781775 0.041554715 0.17538834\n",
      "rndmChi 1781775 0.043116476 0.17704976\n",
      "allCand 4480260 0.038997248 0.16602725\n"
     ]
    },
    {
     "data": {
      "application/vnd.jupyter.widget-view+json": {
       "model_id": "",
       "version_major": 2,
       "version_minor": 0
      },
      "text/plain": [
       "Canvas(toolbar=Toolbar(toolitems=[('Home', 'Reset original view', 'home', 'home'), ('Back', 'Back to previous …"
      ]
     },
     "metadata": {},
     "output_type": "display_data"
    },
    {
     "name": "stdout",
     "output_type": "stream",
     "text": [
      "bestChi 1781775 0.04485404 0.17923102\n",
      "wrstChi 1781775 0.041554715 0.17538834\n",
      "rndmChi 1781775 0.043116476 0.17704976\n",
      "\u001b[1mB_mass\u001b[0m\n",
      "allCand 4480260 5306.313 255.41122\n"
     ]
    },
    {
     "data": {
      "application/vnd.jupyter.widget-view+json": {
       "model_id": "",
       "version_major": 2,
       "version_minor": 0
      },
      "text/plain": [
       "Canvas(toolbar=Toolbar(toolitems=[('Home', 'Reset original view', 'home', 'home'), ('Back', 'Back to previous …"
      ]
     },
     "metadata": {},
     "output_type": "display_data"
    },
    {
     "name": "stdout",
     "output_type": "stream",
     "text": [
      "bestChi 1781775 5303.039 255.1189\n",
      "wrstChi 1781775 5308.746 256.46616\n",
      "rndmChi 1781775 5306.1025 255.4961\n",
      "\u001b[1mB_trk1_pT\u001b[0m\n",
      "allCand 4480260 2090.4905 1876.9988\n"
     ]
    },
    {
     "data": {
      "application/vnd.jupyter.widget-view+json": {
       "model_id": "",
       "version_major": 2,
       "version_minor": 0
      },
      "text/plain": [
       "Canvas(toolbar=Toolbar(toolitems=[('Home', 'Reset original view', 'home', 'home'), ('Back', 'Back to previous …"
      ]
     },
     "metadata": {},
     "output_type": "display_data"
    },
    {
     "name": "stdout",
     "output_type": "stream",
     "text": [
      "bestChi 1781775 2066.906 1873.3597\n",
      "wrstChi 1781775 2055.5603 1849.0774\n",
      "rndmChi 1781775 2059.251 1851.441\n",
      "\u001b[1mB_trk2_pT\u001b[0m\n",
      "allCand 4480260 1641.0696 1180.4441\n"
     ]
    },
    {
     "data": {
      "application/vnd.jupyter.widget-view+json": {
       "model_id": "",
       "version_major": 2,
       "version_minor": 0
      },
      "text/plain": [
       "Canvas(toolbar=Toolbar(toolitems=[('Home', 'Reset original view', 'home', 'home'), ('Back', 'Back to previous …"
      ]
     },
     "metadata": {},
     "output_type": "display_data"
    },
    {
     "name": "stdout",
     "output_type": "stream",
     "text": [
      "bestChi 1781775 1616.6554 1163.2592\n",
      "wrstChi 1781775 1601.655 1150.691\n",
      "rndmChi 1781775 1610.8519 1155.5077\n",
      "############### \u001b[1m_1400_1000\u001b[0m ###############\n",
      "\u001b[1mChi2/ndf\u001b[0m\n",
      "allCand 1351037 1.150656 0.5937001\n"
     ]
    },
    {
     "data": {
      "application/vnd.jupyter.widget-view+json": {
       "model_id": "",
       "version_major": 2,
       "version_minor": 0
      },
      "text/plain": [
       "Canvas(toolbar=Toolbar(toolitems=[('Home', 'Reset original view', 'home', 'home'), ('Back', 'Back to previous …"
      ]
     },
     "metadata": {},
     "output_type": "display_data"
    },
    {
     "name": "stdout",
     "output_type": "stream",
     "text": [
      "bestChi 556028 0.9117414 0.5158269\n",
      "wrstChi 556028 1.4066789 0.59033185\n",
      "rndmChi 556028 1.1540866 0.5953051\n",
      "\u001b[1mLifetime\u001b[0m\n",
      "allCand 1351037 0.041001353 0.17791772\n"
     ]
    },
    {
     "data": {
      "application/vnd.jupyter.widget-view+json": {
       "model_id": "",
       "version_major": 2,
       "version_minor": 0
      },
      "text/plain": [
       "Canvas(toolbar=Toolbar(toolitems=[('Home', 'Reset original view', 'home', 'home'), ('Back', 'Back to previous …"
      ]
     },
     "metadata": {},
     "output_type": "display_data"
    },
    {
     "name": "stdout",
     "output_type": "stream",
     "text": [
      "bestChi 556028 0.046742722 0.19111703\n",
      "wrstChi 556028 0.04450734 0.18811814\n",
      "rndmChi 556028 0.045598697 0.18972759\n",
      "allCand 1351037 0.041001353 0.17791772\n"
     ]
    },
    {
     "data": {
      "application/vnd.jupyter.widget-view+json": {
       "model_id": "",
       "version_major": 2,
       "version_minor": 0
      },
      "text/plain": [
       "Canvas(toolbar=Toolbar(toolitems=[('Home', 'Reset original view', 'home', 'home'), ('Back', 'Back to previous …"
      ]
     },
     "metadata": {},
     "output_type": "display_data"
    },
    {
     "name": "stdout",
     "output_type": "stream",
     "text": [
      "bestChi 556028 0.046742722 0.19111703\n",
      "wrstChi 556028 0.04450734 0.18811814\n",
      "rndmChi 556028 0.045598697 0.18972759\n",
      "\u001b[1mB_mass\u001b[0m\n",
      "allCand 1351037 5300.255 253.23366\n"
     ]
    },
    {
     "data": {
      "application/vnd.jupyter.widget-view+json": {
       "model_id": "",
       "version_major": 2,
       "version_minor": 0
      },
      "text/plain": [
       "Canvas(toolbar=Toolbar(toolitems=[('Home', 'Reset original view', 'home', 'home'), ('Back', 'Back to previous …"
      ]
     },
     "metadata": {},
     "output_type": "display_data"
    },
    {
     "name": "stdout",
     "output_type": "stream",
     "text": [
      "bestChi 556028 5296.922 252.54831\n",
      "wrstChi 556028 5301.2285 254.23221\n",
      "rndmChi 556028 5299.4165 253.2791\n",
      "\u001b[1mB_trk1_pT\u001b[0m\n",
      "allCand 1351037 3095.1917 2600.573\n"
     ]
    },
    {
     "data": {
      "application/vnd.jupyter.widget-view+json": {
       "model_id": "",
       "version_major": 2,
       "version_minor": 0
      },
      "text/plain": [
       "Canvas(toolbar=Toolbar(toolitems=[('Home', 'Reset original view', 'home', 'home'), ('Back', 'Back to previous …"
      ]
     },
     "metadata": {},
     "output_type": "display_data"
    },
    {
     "name": "stdout",
     "output_type": "stream",
     "text": [
      "bestChi 556028 3053.895 2588.8992\n",
      "wrstChi 556028 3053.0576 2589.1377\n",
      "rndmChi 556028 3053.0447 2579.245\n",
      "\u001b[1mB_trk2_pT\u001b[0m\n",
      "allCand 1351037 2313.9783 1681.2766\n"
     ]
    },
    {
     "data": {
      "application/vnd.jupyter.widget-view+json": {
       "model_id": "",
       "version_major": 2,
       "version_minor": 0
      },
      "text/plain": [
       "Canvas(toolbar=Toolbar(toolitems=[('Home', 'Reset original view', 'home', 'home'), ('Back', 'Back to previous …"
      ]
     },
     "metadata": {},
     "output_type": "display_data"
    },
    {
     "name": "stdout",
     "output_type": "stream",
     "text": [
      "bestChi 556028 2269.7197 1654.3634\n",
      "wrstChi 556028 2253.9988 1649.2386\n",
      "rndmChi 556028 2266.0042 1649.1832\n",
      "############### \u001b[1m_1500_1200\u001b[0m ###############\n",
      "\u001b[1mChi2/ndf\u001b[0m\n",
      "allCand 858850 1.1549466 0.5939528\n"
     ]
    },
    {
     "data": {
      "application/vnd.jupyter.widget-view+json": {
       "model_id": "",
       "version_major": 2,
       "version_minor": 0
      },
      "text/plain": [
       "Canvas(toolbar=Toolbar(toolitems=[('Home', 'Reset original view', 'home', 'home'), ('Back', 'Back to previous …"
      ]
     },
     "metadata": {},
     "output_type": "display_data"
    },
    {
     "name": "stdout",
     "output_type": "stream",
     "text": [
      "bestChi 354243 0.9197973 0.5187754\n",
      "wrstChi 354243 1.4061112 0.59070736\n",
      "rndmChi 354243 1.157587 0.5959574\n",
      "\u001b[1mLifetime\u001b[0m\n",
      "allCand 858850 0.04088122 0.17949265\n"
     ]
    },
    {
     "data": {
      "application/vnd.jupyter.widget-view+json": {
       "model_id": "",
       "version_major": 2,
       "version_minor": 0
      },
      "text/plain": [
       "Canvas(toolbar=Toolbar(toolitems=[('Home', 'Reset original view', 'home', 'home'), ('Back', 'Back to previous …"
      ]
     },
     "metadata": {},
     "output_type": "display_data"
    },
    {
     "name": "stdout",
     "output_type": "stream",
     "text": [
      "bestChi 354243 0.046625488 0.19260901\n",
      "wrstChi 354243 0.04471419 0.18973476\n",
      "rndmChi 354243 0.045569334 0.19101958\n",
      "allCand 858850 0.04088122 0.17949265\n"
     ]
    },
    {
     "data": {
      "application/vnd.jupyter.widget-view+json": {
       "model_id": "",
       "version_major": 2,
       "version_minor": 0
      },
      "text/plain": [
       "Canvas(toolbar=Toolbar(toolitems=[('Home', 'Reset original view', 'home', 'home'), ('Back', 'Back to previous …"
      ]
     },
     "metadata": {},
     "output_type": "display_data"
    },
    {
     "name": "stdout",
     "output_type": "stream",
     "text": [
      "bestChi 354243 0.046625488 0.19260901\n",
      "wrstChi 354243 0.04471419 0.18973476\n",
      "rndmChi 354243 0.045569334 0.19101958\n",
      "\u001b[1mB_mass\u001b[0m\n",
      "allCand 858850 5298.847 252.46098\n"
     ]
    },
    {
     "data": {
      "application/vnd.jupyter.widget-view+json": {
       "model_id": "",
       "version_major": 2,
       "version_minor": 0
      },
      "text/plain": [
       "Canvas(toolbar=Toolbar(toolitems=[('Home', 'Reset original view', 'home', 'home'), ('Back', 'Back to previous …"
      ]
     },
     "metadata": {},
     "output_type": "display_data"
    },
    {
     "name": "stdout",
     "output_type": "stream",
     "text": [
      "bestChi 354243 5295.3223 251.61014\n",
      "wrstChi 354243 5299.6226 253.61465\n",
      "rndmChi 354243 5297.381 252.48277\n",
      "\u001b[1mB_trk1_pT\u001b[0m\n",
      "allCand 858850 3466.6501 2883.257\n"
     ]
    },
    {
     "data": {
      "application/vnd.jupyter.widget-view+json": {
       "model_id": "",
       "version_major": 2,
       "version_minor": 0
      },
      "text/plain": [
       "Canvas(toolbar=Toolbar(toolitems=[('Home', 'Reset original view', 'home', 'home'), ('Back', 'Back to previous …"
      ]
     },
     "metadata": {},
     "output_type": "display_data"
    },
    {
     "name": "stdout",
     "output_type": "stream",
     "text": [
      "bestChi 354243 3426.997 2883.6687\n",
      "wrstChi 354243 3429.006 2884.9116\n",
      "rndmChi 354243 3425.303 2872.3477\n",
      "\u001b[1mB_trk2_pT\u001b[0m\n",
      "allCand 858850 2729.7803 1866.6038\n"
     ]
    },
    {
     "data": {
      "application/vnd.jupyter.widget-view+json": {
       "model_id": "",
       "version_major": 2,
       "version_minor": 0
      },
      "text/plain": [
       "Canvas(toolbar=Toolbar(toolitems=[('Home', 'Reset original view', 'home', 'home'), ('Back', 'Back to previous …"
      ]
     },
     "metadata": {},
     "output_type": "display_data"
    },
    {
     "name": "stdout",
     "output_type": "stream",
     "text": [
      "bestChi 354243 2683.7896 1841.5591\n",
      "wrstChi 354243 2671.9058 1846.6476\n",
      "rndmChi 354243 2681.402 1840.6028\n",
      "############### \u001b[1m_1700_1200\u001b[0m ###############\n",
      "\u001b[1mChi2/ndf\u001b[0m\n",
      "allCand 675686 1.1587838 0.5950209\n"
     ]
    },
    {
     "data": {
      "application/vnd.jupyter.widget-view+json": {
       "model_id": "",
       "version_major": 2,
       "version_minor": 0
      },
      "text/plain": [
       "Canvas(toolbar=Toolbar(toolitems=[('Home', 'Reset original view', 'home', 'home'), ('Back', 'Back to previous …"
      ]
     },
     "metadata": {},
     "output_type": "display_data"
    },
    {
     "name": "stdout",
     "output_type": "stream",
     "text": [
      "bestChi 279719 0.9242243 0.5206656\n",
      "wrstChi 279719 1.4086276 0.5913671\n",
      "rndmChi 279719 1.1602607 0.59619814\n",
      "\u001b[1mLifetime\u001b[0m\n",
      "allCand 675686 0.04203667 0.18606265\n"
     ]
    },
    {
     "data": {
      "application/vnd.jupyter.widget-view+json": {
       "model_id": "",
       "version_major": 2,
       "version_minor": 0
      },
      "text/plain": [
       "Canvas(toolbar=Toolbar(toolitems=[('Home', 'Reset original view', 'home', 'home'), ('Back', 'Back to previous …"
      ]
     },
     "metadata": {},
     "output_type": "display_data"
    },
    {
     "name": "stdout",
     "output_type": "stream",
     "text": [
      "bestChi 279719 0.0479763 0.19969174\n",
      "wrstChi 279719 0.046248585 0.19733308\n",
      "rndmChi 279719 0.047130477 0.19850603\n",
      "allCand 675686 0.04203667 0.18606265\n"
     ]
    },
    {
     "data": {
      "application/vnd.jupyter.widget-view+json": {
       "model_id": "",
       "version_major": 2,
       "version_minor": 0
      },
      "text/plain": [
       "Canvas(toolbar=Toolbar(toolitems=[('Home', 'Reset original view', 'home', 'home'), ('Back', 'Back to previous …"
      ]
     },
     "metadata": {},
     "output_type": "display_data"
    },
    {
     "name": "stdout",
     "output_type": "stream",
     "text": [
      "bestChi 279719 0.0479763 0.19969174\n",
      "wrstChi 279719 0.046248585 0.19733308\n",
      "rndmChi 279719 0.047130477 0.19850603\n",
      "\u001b[1mB_mass\u001b[0m\n",
      "allCand 675686 5298.5835 252.0824\n"
     ]
    },
    {
     "data": {
      "application/vnd.jupyter.widget-view+json": {
       "model_id": "",
       "version_major": 2,
       "version_minor": 0
      },
      "text/plain": [
       "Canvas(toolbar=Toolbar(toolitems=[('Home', 'Reset original view', 'home', 'home'), ('Back', 'Back to previous …"
      ]
     },
     "metadata": {},
     "output_type": "display_data"
    },
    {
     "name": "stdout",
     "output_type": "stream",
     "text": [
      "bestChi 279719 5295.4336 251.00798\n",
      "wrstChi 279719 5298.7324 253.38846\n",
      "rndmChi 279719 5297.5264 251.91545\n",
      "\u001b[1mB_trk1_pT\u001b[0m\n",
      "allCand 675686 3860.7478 3068.4807\n"
     ]
    },
    {
     "data": {
      "application/vnd.jupyter.widget-view+json": {
       "model_id": "",
       "version_major": 2,
       "version_minor": 0
      },
      "text/plain": [
       "Canvas(toolbar=Toolbar(toolitems=[('Home', 'Reset original view', 'home', 'home'), ('Back', 'Back to previous …"
      ]
     },
     "metadata": {},
     "output_type": "display_data"
    },
    {
     "name": "stdout",
     "output_type": "stream",
     "text": [
      "bestChi 279719 3821.7275 3075.649\n",
      "wrstChi 279719 3824.9832 3072.619\n",
      "rndmChi 279719 3821.5354 3058.083\n",
      "\u001b[1mB_trk2_pT\u001b[0m\n",
      "allCand 675686 2900.074 2019.3561\n"
     ]
    },
    {
     "data": {
      "application/vnd.jupyter.widget-view+json": {
       "model_id": "",
       "version_major": 2,
       "version_minor": 0
      },
      "text/plain": [
       "Canvas(toolbar=Toolbar(toolitems=[('Home', 'Reset original view', 'home', 'home'), ('Back', 'Back to previous …"
      ]
     },
     "metadata": {},
     "output_type": "display_data"
    },
    {
     "name": "stdout",
     "output_type": "stream",
     "text": [
      "bestChi 279719 2848.5696 1991.7446\n",
      "wrstChi 279719 2835.033 2000.9625\n",
      "rndmChi 279719 2843.293 1988.6272\n",
      "############### \u001b[1m_1700_1500\u001b[0m ###############\n",
      "\u001b[1mChi2/ndf\u001b[0m\n",
      "allCand 480473 1.163569 0.5954874\n"
     ]
    },
    {
     "data": {
      "application/vnd.jupyter.widget-view+json": {
       "model_id": "",
       "version_major": 2,
       "version_minor": 0
      },
      "text/plain": [
       "Canvas(toolbar=Toolbar(toolitems=[('Home', 'Reset original view', 'home', 'home'), ('Back', 'Back to previous …"
      ]
     },
     "metadata": {},
     "output_type": "display_data"
    },
    {
     "name": "stdout",
     "output_type": "stream",
     "text": [
      "bestChi 198648 0.9320894 0.5235207\n",
      "wrstChi 198648 1.4098237 0.5920007\n",
      "rndmChi 198648 1.1674372 0.5979228\n",
      "\u001b[1mLifetime\u001b[0m\n",
      "allCand 480473 0.040998504 0.18373942\n"
     ]
    },
    {
     "data": {
      "application/vnd.jupyter.widget-view+json": {
       "model_id": "",
       "version_major": 2,
       "version_minor": 0
      },
      "text/plain": [
       "Canvas(toolbar=Toolbar(toolitems=[('Home', 'Reset original view', 'home', 'home'), ('Back', 'Back to previous …"
      ]
     },
     "metadata": {},
     "output_type": "display_data"
    },
    {
     "name": "stdout",
     "output_type": "stream",
     "text": [
      "bestChi 198648 0.04675229 0.19717674\n",
      "wrstChi 198648 0.045337338 0.1949852\n",
      "rndmChi 198648 0.046015397 0.19636084\n",
      "allCand 480473 0.040998504 0.18373942\n"
     ]
    },
    {
     "data": {
      "application/vnd.jupyter.widget-view+json": {
       "model_id": "",
       "version_major": 2,
       "version_minor": 0
      },
      "text/plain": [
       "Canvas(toolbar=Toolbar(toolitems=[('Home', 'Reset original view', 'home', 'home'), ('Back', 'Back to previous …"
      ]
     },
     "metadata": {},
     "output_type": "display_data"
    },
    {
     "name": "stdout",
     "output_type": "stream",
     "text": [
      "bestChi 198648 0.04675229 0.19717674\n",
      "wrstChi 198648 0.045337338 0.1949852\n",
      "rndmChi 198648 0.046015397 0.19636084\n",
      "\u001b[1mB_mass\u001b[0m\n",
      "allCand 480473 5298.446 251.64975\n"
     ]
    },
    {
     "data": {
      "application/vnd.jupyter.widget-view+json": {
       "model_id": "",
       "version_major": 2,
       "version_minor": 0
      },
      "text/plain": [
       "Canvas(toolbar=Toolbar(toolitems=[('Home', 'Reset original view', 'home', 'home'), ('Back', 'Back to previous …"
      ]
     },
     "metadata": {},
     "output_type": "display_data"
    },
    {
     "name": "stdout",
     "output_type": "stream",
     "text": [
      "bestChi 198648 5295.4126 250.72078\n",
      "wrstChi 198648 5298.4346 252.98015\n",
      "rndmChi 198648 5297.01 251.73653\n",
      "\u001b[1mB_trk1_pT\u001b[0m\n",
      "allCand 480473 4058.1328 3253.7593\n"
     ]
    },
    {
     "data": {
      "application/vnd.jupyter.widget-view+json": {
       "model_id": "",
       "version_major": 2,
       "version_minor": 0
      },
      "text/plain": [
       "Canvas(toolbar=Toolbar(toolitems=[('Home', 'Reset original view', 'home', 'home'), ('Back', 'Back to previous …"
      ]
     },
     "metadata": {},
     "output_type": "display_data"
    },
    {
     "name": "stdout",
     "output_type": "stream",
     "text": [
      "bestChi 198648 4030.3762 3280.3748\n",
      "wrstChi 198648 4032.9028 3266.7786\n",
      "rndmChi 198648 4026.609 3253.7546\n",
      "\u001b[1mB_trk2_pT\u001b[0m\n",
      "allCand 480473 3348.6562 2125.2595\n"
     ]
    },
    {
     "data": {
      "application/vnd.jupyter.widget-view+json": {
       "model_id": "",
       "version_major": 2,
       "version_minor": 0
      },
      "text/plain": [
       "Canvas(toolbar=Toolbar(toolitems=[('Home', 'Reset original view', 'home', 'home'), ('Back', 'Back to previous …"
      ]
     },
     "metadata": {},
     "output_type": "display_data"
    },
    {
     "name": "stdout",
     "output_type": "stream",
     "text": [
      "bestChi 198648 3303.8179 2105.2107\n",
      "wrstChi 198648 3295.6821 2123.7478\n",
      "rndmChi 198648 3297.7031 2108.7695\n",
      "############### \u001b[1m_2500_1700\u001b[0m ###############\n",
      "\u001b[1mChi2/ndf\u001b[0m\n",
      "allCand 213852 1.1808207 0.59860706\n"
     ]
    },
    {
     "data": {
      "application/vnd.jupyter.widget-view+json": {
       "model_id": "",
       "version_major": 2,
       "version_minor": 0
      },
      "text/plain": [
       "Canvas(toolbar=Toolbar(toolitems=[('Home', 'Reset original view', 'home', 'home'), ('Back', 'Back to previous …"
      ]
     },
     "metadata": {},
     "output_type": "display_data"
    },
    {
     "name": "stdout",
     "output_type": "stream",
     "text": [
      "bestChi 89495 0.9512918 0.529121\n",
      "wrstChi 89495 1.4227934 0.59350514\n",
      "rndmChi 89495 1.1831985 0.6000414\n",
      "\u001b[1mLifetime\u001b[0m\n",
      "allCand 213852 0.04379417 0.20567554\n"
     ]
    },
    {
     "data": {
      "application/vnd.jupyter.widget-view+json": {
       "model_id": "",
       "version_major": 2,
       "version_minor": 0
      },
      "text/plain": [
       "Canvas(toolbar=Toolbar(toolitems=[('Home', 'Reset original view', 'home', 'home'), ('Back', 'Back to previous …"
      ]
     },
     "metadata": {},
     "output_type": "display_data"
    },
    {
     "name": "stdout",
     "output_type": "stream",
     "text": [
      "bestChi 89495 0.04998155 0.22065814\n",
      "wrstChi 89495 0.048841864 0.21902037\n",
      "rndmChi 89495 0.04947015 0.21973248\n",
      "allCand 213852 0.04379417 0.20567554\n"
     ]
    },
    {
     "data": {
      "application/vnd.jupyter.widget-view+json": {
       "model_id": "",
       "version_major": 2,
       "version_minor": 0
      },
      "text/plain": [
       "Canvas(toolbar=Toolbar(toolitems=[('Home', 'Reset original view', 'home', 'home'), ('Back', 'Back to previous …"
      ]
     },
     "metadata": {},
     "output_type": "display_data"
    },
    {
     "name": "stdout",
     "output_type": "stream",
     "text": [
      "bestChi 89495 0.04998155 0.22065814\n",
      "wrstChi 89495 0.048841864 0.21902037\n",
      "rndmChi 89495 0.04947015 0.21973248\n",
      "\u001b[1mB_mass\u001b[0m\n",
      "allCand 213852 5298.8765 250.63611\n"
     ]
    },
    {
     "data": {
      "application/vnd.jupyter.widget-view+json": {
       "model_id": "",
       "version_major": 2,
       "version_minor": 0
      },
      "text/plain": [
       "Canvas(toolbar=Toolbar(toolitems=[('Home', 'Reset original view', 'home', 'home'), ('Back', 'Back to previous …"
      ]
     },
     "metadata": {},
     "output_type": "display_data"
    },
    {
     "name": "stdout",
     "output_type": "stream",
     "text": [
      "bestChi 89495 5295.8115 249.37119\n",
      "wrstChi 89495 5297.969 251.8676\n",
      "rndmChi 89495 5296.844 250.80898\n",
      "\u001b[1mB_trk1_pT\u001b[0m\n",
      "allCand 213852 5539.335 3849.9263\n"
     ]
    },
    {
     "data": {
      "application/vnd.jupyter.widget-view+json": {
       "model_id": "2bff5fc91968467d9f141469e2ab99be",
       "version_major": 2,
       "version_minor": 0
      },
      "text/plain": [
       "Canvas(toolbar=Toolbar(toolitems=[('Home', 'Reset original view', 'home', 'home'), ('Back', 'Back to previous …"
      ]
     },
     "metadata": {},
     "output_type": "display_data"
    },
    {
     "name": "stdout",
     "output_type": "stream",
     "text": [
      "bestChi 89495 5522.531 3871.452\n",
      "wrstChi 89495 5526.833 3885.5632\n",
      "rndmChi 89495 5532.1 3896.5293\n",
      "\u001b[1mB_trk2_pT\u001b[0m\n",
      "allCand 213852 4225.371 2654.2402\n"
     ]
    },
    {
     "data": {
      "application/vnd.jupyter.widget-view+json": {
       "model_id": "03d83683bb8447d9835e0f9a14eb149d",
       "version_major": 2,
       "version_minor": 0
      },
      "text/plain": [
       "Canvas(toolbar=Toolbar(toolitems=[('Home', 'Reset original view', 'home', 'home'), ('Back', 'Back to previous …"
      ]
     },
     "metadata": {},
     "output_type": "display_data"
    },
    {
     "name": "stdout",
     "output_type": "stream",
     "text": [
      "bestChi 89495 4170.9233 2625.629\n",
      "wrstChi 89495 4163.8057 2670.676\n",
      "rndmChi 89495 4150.077 2610.5864\n"
     ]
    }
   ],
   "source": [
    "#priprav limity a zgrup data aby sa plotovalo v slucke    \n",
    "Xlims = {\"Chi2/ndf\" : [[0,2.5]], \n",
    "         \"Lifetime\" : [[-2,15],[-0.5,1],],\n",
    "         \"B_mass\" : [[5000,5650]],\n",
    "         \"B_trk1_pT\" : [[1000,10000]],\n",
    "         \"B_trk2_pT\" : [[500,10000]]\n",
    "        }\n",
    "plotLinearLog ={\"Chi2/ndf\" : [[True,False]], \n",
    "             \"Lifetime\" : [[False,True],[True,True]],\n",
    "             \"B_mass\" : [[True,False]],\n",
    "             \"B_trk1_pT\" : [[True,True]],\n",
    "             \"B_trk2_pT\" : [[True,True]]\n",
    "        }\n",
    "\n",
    "formatString ={\"Chi2/ndf\" : '{:0.2f}', \n",
    "             \"Lifetime\" : '{:0.4f}',\n",
    "             \"B_mass\" : '{:0.1f}',\n",
    "             \"B_trk1_pT\" : '{:0.1f}',\n",
    "             \"B_trk2_pT\" : '{:0.1f}'\n",
    "        }\n",
    "\n",
    "results = {}\n",
    "yieldsMultipleCand2={}\n",
    "for cc in cuts:\n",
    "    ccc=cuts[cc]\n",
    "    print('############### \\033[1m' + cc + '\\033[0m ###############')\n",
    "        \n",
    "    #vyber multiple candidates co splnaju cut\n",
    "    #ccc = cuts['pT(kaon) > 1700 && pT(pion) > 1200']\n",
    "    nCands = [len(ch) for ch in vtx.B_chi2_ndof[ccc] ]\n",
    "    multipleCandidates = np.array([l>1 for l in nCands ])\n",
    "    yieldsMultipleCand2[cc] = [np.sum(nCands),np.sum(multipleCandidates),np.sum([l>2 for l in nCands ])]\n",
    "    #vycitaj premenne\n",
    "    multiple_chis=vtx.B_chi2_ndof[ccc][multipleCandidates]\n",
    "    multiple_taus = vtx.B_tau_MinA0[ccc][multipleCandidates]\n",
    "    multiple_masses = vtx.B_mass[ccc][multipleCandidates]\n",
    "    multiple_tr1Pts = vtx.B_trk1_pT[ccc][multipleCandidates]\n",
    "    if name == \"Bd\":\n",
    "        multiple_tr2Pts = vtx.B_trk2_pT[ccc][multipleCandidates]\n",
    "\n",
    "    Xall = {\"Chi2/ndf\" : multiple_chis, \n",
    "         \"Lifetime\" : multiple_taus,\n",
    "         \"B_mass\" : multiple_masses,\n",
    "         \"B_trk1_pT\" : multiple_tr1Pts,\n",
    "        }\n",
    "    if name == \"Bd\":\n",
    "        Xall[\"B_trk2_pT\"] = multiple_tr2Pts\n",
    "    \n",
    "    XbestChi = {}\n",
    "    XworstChi = {}\n",
    "    XrandomChi = {}\n",
    "\n",
    "\n",
    "\n",
    "    #najdi best chi po aplikacii cutov\n",
    "    bestChi=[np.argmin(ch)  for ch in multiple_chis]\n",
    "    XbestChi[\"Chi2/ndf\"] =[ch[bestChi[i]]  for i,ch in enumerate(multiple_chis)]\n",
    "    XbestChi[\"Lifetime\"]=[ch[bestChi[i]]  for i,ch in enumerate(multiple_taus)]\n",
    "    XbestChi[\"B_mass\"]=[ch[bestChi[i]]  for i,ch in enumerate(multiple_masses)]\n",
    "    XbestChi[\"B_trk1_pT\"]=[ch[bestChi[i]]  for i,ch in enumerate(multiple_tr1Pts)]\n",
    "    if name == \"Bd\":\n",
    "        XbestChi[\"B_trk2_pT\"]=[ch[bestChi[i]]  for i,ch in enumerate(multiple_tr2Pts)]\n",
    "\n",
    "    #najdi worst chi po aplikacii cutov\n",
    "    worstChi=[np.argmax(ch)  for ch in multiple_chis]\n",
    "    XworstChi[\"Chi2/ndf\"] =[ch[worstChi[i]]  for i,ch in enumerate(multiple_chis)]\n",
    "    XworstChi[\"Lifetime\"]=[ch[worstChi[i]]  for i,ch in enumerate(multiple_taus)]\n",
    "    XworstChi[\"B_mass\"]=[ch[worstChi[i]]  for i,ch in enumerate(multiple_masses)]\n",
    "    XworstChi[\"B_trk1_pT\"]=[ch[worstChi[i]]  for i,ch in enumerate(multiple_tr1Pts)]\n",
    "\n",
    "    if name == \"Bd\":\n",
    "        XworstChi[\"B_trk2_pT\"]=[ch[worstChi[i]]  for i,ch in enumerate(multiple_tr2Pts)]\n",
    "\n",
    "    #najdi worst chi po aplikacii cutov\n",
    "    randomChi=[np.random.choice(range(len(ch)))  for ch in multiple_chis]\n",
    "    XrandomChi[\"Chi2/ndf\"] =[ch[randomChi[i]]  for i,ch in enumerate(multiple_chis)]\n",
    "    XrandomChi[\"Lifetime\"]=[ch[randomChi[i]]  for i,ch in enumerate(multiple_taus)]\n",
    "    XrandomChi[\"B_mass\"]=[ch[randomChi[i]]  for i,ch in enumerate(multiple_masses)]\n",
    "    XrandomChi[\"B_trk1_pT\"]=[ch[randomChi[i]]  for i,ch in enumerate(multiple_tr1Pts)]\n",
    "    if name == \"Bd\":\n",
    "        XrandomChi[\"B_trk2_pT\"]=[ch[randomChi[i]]  for i,ch in enumerate(multiple_tr2Pts)]\n",
    "\n",
    "        \n",
    "    \n",
    "    helpResult = {}\n",
    "    pdf = PdfPages(name+'multCand_cutEffect_BLS_old'+ cc +'finalCuts.pdf')\n",
    "    for xName in Xall:\n",
    "        xall = Xall[xName]\n",
    "        xbestChi = XbestChi[xName]\n",
    "        xworstChi = XworstChi[xName]\n",
    "        xrandomChi = XrandomChi[xName]\n",
    "        unpackedLists = {\n",
    "            \"allCand\" : list(chain.from_iterable(xall)),\n",
    "            \"bestChi\" : xbestChi,\n",
    "            \"wrstChi\" : xworstChi,\n",
    "            \"rndmChi\" : xrandomChi,\n",
    "        }\n",
    "        print('\\033[1m' + xName + '\\033[0m')\n",
    "        helpHelpResult = {}\n",
    "        for j, xlim in enumerate(Xlims[xName]):\n",
    "            for yName in unpackedLists:\n",
    "                y = unpackedLists[yName]\n",
    "                m=np.mean(y)\n",
    "                s=np.std(y)\n",
    "                print(yName, len(y), m, s)\n",
    "                plt.hist(y, bins=100, label=yName+ \" \" + formatString[xName].format(m) + \"+-\" + formatString[xName].format(s), range=xlim,density=True,histtype='step')#bins='auto'  # arguments are passed to np.histogram # log=True, \n",
    "                #fig, ax = plt.subplots()\n",
    "                helpHelpResult[yName] = [m,s]\n",
    "            plt.xlabel(xName)\n",
    "            #plt.plot([], [], ' ', label=\"Extra label on the legend\")\n",
    "            plt.legend()\n",
    "            #helpo = L.get_texts()[0]\n",
    "            #set_text(helpo+str(np.mean(y)))\n",
    "            if plotLinearLog[xName][j][0] : \n",
    "                plt.title(\"Histogram of \" + xName )\n",
    "                pdf.savefig()\n",
    "            if plotLinearLog[xName][j][1] : \n",
    "                plt.yscale('log')\n",
    "                plt.title(\"Histogram of \" + xName +\" (semiLog)\")\n",
    "                pdf.savefig()\n",
    "\n",
    "            plt.close()\n",
    "        helpResult[xName] = helpHelpResult\n",
    "    results[cc]=helpResult\n",
    "    pdf.close()"
   ]
  },
  {
   "cell_type": "code",
   "execution_count": null,
   "id": "4527cee7",
   "metadata": {},
   "outputs": [],
   "source": []
  },
  {
   "cell_type": "code",
   "execution_count": 82,
   "id": "bc01459f",
   "metadata": {},
   "outputs": [
    {
     "name": "stdout",
     "output_type": "stream",
     "text": [
      " \u001b[1m_1000_500\u001b[0m \n",
      "[11264611, 1781775, 536741] 100.00% 15.82% 4.76%\n",
      "bestChi [0.04485404, 0.17923102]\n",
      "rndmChi [0.043122575, 0.17710237]\n",
      "wrstChi [0.041554715, 0.17538834]\n",
      "allCand [0.038997248, 0.16602725]\n",
      "best - worst [0.00329933 0.00384268]\n",
      "diff/average 7.64%\n",
      "\n",
      " \u001b[1m_1400_1000\u001b[0m \n",
      "[4849081, 556028, 143405] 43.05% 11.47% 2.96%\n",
      "bestChi [0.046742722, 0.19111703]\n",
      "rndmChi [0.045537043, 0.18953335]\n",
      "wrstChi [0.04450734, 0.18811814]\n",
      "allCand [0.041001353, 0.17791772]\n",
      "best - worst [0.00223538 0.00299889]\n",
      "diff/average 4.90%\n",
      "\n",
      " \u001b[1m_1500_1200\u001b[0m \n",
      "[3466890, 354243, 89834] 30.78% 10.22% 2.59%\n",
      "bestChi [0.046625488, 0.19260901]\n",
      "rndmChi [0.045678444, 0.19116998]\n",
      "wrstChi [0.04471419, 0.18973476]\n",
      "allCand [0.04088122, 0.17949265]\n",
      "best - worst [0.0019113  0.00287426]\n",
      "diff/average 4.19%\n",
      "\n",
      " \u001b[1m_1700_1200\u001b[0m \n",
      "[2940521, 279719, 69884] 26.10% 9.51% 2.38%\n",
      "bestChi [0.0479763, 0.19969174]\n",
      "rndmChi [0.047134925, 0.19832908]\n",
      "wrstChi [0.046248585, 0.19733308]\n",
      "allCand [0.04203667, 0.18606265]\n",
      "best - worst [0.00172772 0.00235866]\n",
      "diff/average 3.67%\n",
      "\n",
      " \u001b[1m_1700_1500\u001b[0m \n",
      "[2252826, 198648, 49750] 20.00% 8.82% 2.21%\n",
      "bestChi [0.04675229, 0.19717674]\n",
      "rndmChi [0.04585852, 0.19587088]\n",
      "wrstChi [0.045337338, 0.1949852]\n",
      "allCand [0.040998504, 0.18373942]\n",
      "best - worst [0.00141495 0.00219154]\n",
      "diff/average 3.07%\n",
      "\n",
      " \u001b[1m_2500_1700\u001b[0m \n",
      "[1280600, 89495, 21430] 11.37% 6.99% 1.67%\n",
      "bestChi [0.04998155, 0.22065814]\n",
      "rndmChi [0.04944706, 0.21939307]\n",
      "wrstChi [0.048841864, 0.21902037]\n",
      "allCand [0.04379417, 0.20567554]\n",
      "best - worst [0.00113969 0.00163777]\n",
      "diff/average 2.31%\n",
      "\n"
     ]
    }
   ],
   "source": [
    "for cut in results:\n",
    "    print(' \\033[1m' + cut + '\\033[0m ')\n",
    "    yy=yieldsMultipleCand2[cut]\n",
    "    print(yy,'{:2.2%}'.format(yy[0]/11264611),'{:2.2%}'.format(yy[1]/yy[0]),'{:2.2%}'.format(yy[2]/yy[0]))\n",
    "    for selectionType in [\"bestChi\",\"rndmChi\",\"wrstChi\",\"allCand\",]:\n",
    "        print(selectionType,results[cut][\"Lifetime\"][selectionType])\n",
    "    b=np.array(results[cut][\"Lifetime\"][\"bestChi\"])\n",
    "    w=np.array(results[cut][\"Lifetime\"][\"wrstChi\"])\n",
    "    print(\"best - worst\",b-w)\n",
    "    print(\"diff/average\",'{:2.2%}'.format((2*(b-w)/(b+w))[0]))\n",
    "    print()\n",
    "    #for variable in results[cut]:\n",
    "    #    for selectionType in results[cut][variable]:\n",
    "    #        print(cut, variable,selectionType,results[cut][variable][selectionType])"
   ]
  },
  {
   "cell_type": "raw",
   "id": "1f6d3fda",
   "metadata": {},
   "source": [
    " _1000_500 \n",
    "[11264611, 1781775, 536741] 100.00% 15.82% 4.76%\n",
    "bestChi [0.04485404, 0.17923102]\n",
    "rndmChi [0.043122575, 0.17710237]\n",
    "wrstChi [0.041554715, 0.17538834]\n",
    "allCand [0.038997248, 0.16602725]\n",
    "best - worst [0.00329933 0.00384268]\n",
    "diff/average 7.64%\n",
    "\n",
    " _1400_1000 \n",
    "[4849081, 556028, 143405] 43.05% 11.47% 2.96%\n",
    "bestChi [0.046742722, 0.19111703]\n",
    "rndmChi [0.045537043, 0.18953335]\n",
    "wrstChi [0.04450734, 0.18811814]\n",
    "allCand [0.041001353, 0.17791772]\n",
    "best - worst [0.00223538 0.00299889]\n",
    "diff/average 4.90%\n",
    "\n",
    " _1500_1200 \n",
    "[3466890, 354243, 89834] 30.78% 10.22% 2.59%\n",
    "bestChi [0.046625488, 0.19260901]\n",
    "rndmChi [0.045678444, 0.19116998]\n",
    "wrstChi [0.04471419, 0.18973476]\n",
    "allCand [0.04088122, 0.17949265]\n",
    "best - worst [0.0019113  0.00287426]\n",
    "diff/average 4.19%\n",
    "\n",
    " _1700_1200 \n",
    "[2940521, 279719, 69884] 26.10% 9.51% 2.38%\n",
    "bestChi [0.0479763, 0.19969174]\n",
    "rndmChi [0.047134925, 0.19832908]\n",
    "wrstChi [0.046248585, 0.19733308]\n",
    "allCand [0.04203667, 0.18606265]\n",
    "best - worst [0.00172772 0.00235866]\n",
    "diff/average 3.67%\n",
    "\n",
    " _1700_1500 \n",
    "[2252826, 198648, 49750] 20.00% 8.82% 2.21%\n",
    "bestChi [0.04675229, 0.19717674]\n",
    "rndmChi [0.04585852, 0.19587088]\n",
    "wrstChi [0.045337338, 0.1949852]\n",
    "allCand [0.040998504, 0.18373942]\n",
    "best - worst [0.00141495 0.00219154]\n",
    "diff/average 3.07%\n",
    "\n",
    " _2500_1700 \n",
    "[1280600, 89495, 21430] 11.37% 6.99% 1.67%\n",
    "bestChi [0.04998155, 0.22065814]\n",
    "rndmChi [0.04944706, 0.21939307]\n",
    "wrstChi [0.048841864, 0.21902037]\n",
    "allCand [0.04379417, 0.20567554]\n",
    "best - worst [0.00113969 0.00163777]\n",
    "diff/average 2.31%\n",
    "\n"
   ]
  },
  {
   "cell_type": "code",
   "execution_count": 18,
   "id": "3f52e669",
   "metadata": {},
   "outputs": [
    {
     "data": {
      "application/vnd.jupyter.widget-view+json": {
       "model_id": "",
       "version_major": 2,
       "version_minor": 0
      },
      "text/plain": [
       "Canvas(toolbar=Toolbar(toolitems=[('Home', 'Reset original view', 'home', 'home'), ('Back', 'Back to previous …"
      ]
     },
     "metadata": {},
     "output_type": "display_data"
    },
    {
     "name": "stdout",
     "output_type": "stream",
     "text": [
      "0 trig 0.8152247585431267\n",
      "1 run_number 0.8152247585431267\n",
      "2 jpsi 0.8100862630318536\n",
      "3 tau 0.8100847454263456\n",
      "4 tau_err 0.8034879477607497\n",
      "5 mass 0.6247726218362887\n",
      "6 mass_err in 10 , 100 0.6102252056530572\n",
      "7 mu_pt > 4000 0.6066254453880319\n",
      "8 good run list 0.5836473803910893\n",
      "9 B_pt>10000 0.5836471469133188\n",
      "10 trk1_pt > 1400 0.3684236024545985\n",
      "11 trk2_pt > 1000 0.2816817076937696\n",
      "12 pT(kaon) > 1500 && pT(pion) > 1000 0.25837011970171814\n",
      "13 pT(kaon) > 1700 && pT(pion) > 1000 0.22030553834954097\n",
      "14 pT(kaon) > 2000 && pT(pion) > 1000 0.17797496791431738\n",
      "15 pT(kaon) > 2300 && pT(pion) > 1000 0.1474860397804095\n",
      "16 pT(kaon) > 1500 && pT(pion) > 1200 0.20829882726450674\n",
      "17 pT(kaon) > 1700 && pT(pion) > 1200 0.18118680486371552\n",
      "18 pT(kaon) > 2000 && pT(pion) > 1200 0.15055312051211947\n",
      "19 pT(kaon) > 2300 && pT(pion) > 1200 0.12750652978954546\n",
      "20 pT(kaon) > 1500 && pT(pion) > 1500 0.16022201868149033\n",
      "21 pT(kaon) > 1700 && pT(pion) > 1500 0.14208990154942852\n",
      "22 pT(kaon) > 2000 && pT(pion) > 1500 0.121365597470782\n",
      "23 pT(kaon) > 2300 && pT(pion) > 1500 0.10540844250948445\n"
     ]
    }
   ],
   "source": [
    "#arr = plt.plot(list(range(len(survived))),survived,line=\"None\") #bins='auto'  # arguments are passed to np.histogram label=\"mean\"+'{:0.2f}'.format(np.mean(nCandidates))\n",
    "#plt.show() \n",
    "plt.close()\n",
    "\n",
    "x = np.arange(len(survived))\n",
    "arr = plt.bar(x, height=survived)\n",
    "plt.xticks(x, [str(a) for a in range(len(survived))])\n",
    "plt.title(\"Cutflow - survived events\")\n",
    "plt.xlim([-0.5, len(survived)-0.5])\n",
    "plt.show() \n",
    "for i, c in enumerate(cuts):\n",
    "    #pdf.cell(200, 6, txt = str(i)+\" \" +str(c), \n",
    "    #     ln = line, align = 'L')\n",
    "    #line += 1\n",
    "    #print(i,c,survived[i],survivedMultCands[i],meanMultCand[i])\n",
    "    print(i,c,survived[i])"
   ]
  },
  {
   "cell_type": "code",
   "execution_count": 19,
   "id": "03ca52d4",
   "metadata": {},
   "outputs": [
    {
     "data": {
      "application/vnd.jupyter.widget-view+json": {
       "model_id": "",
       "version_major": 2,
       "version_minor": 0
      },
      "text/plain": [
       "Canvas(toolbar=Toolbar(toolitems=[('Home', 'Reset original view', 'home', 'home'), ('Back', 'Back to previous …"
      ]
     },
     "metadata": {},
     "output_type": "display_data"
    },
    {
     "name": "stdout",
     "output_type": "stream",
     "text": [
      "0 trig 0.19045659957057662\n",
      "1 run_number 0.19045659957057662\n",
      "2 jpsi 0.19057870526152418\n",
      "3 tau 0.19057891818296055\n",
      "4 tau_err 0.18969924793459153\n",
      "5 mass 0.15487825682222756\n",
      "6 mass_err in 10 , 100 0.15135177739185265\n",
      "7 mu_pt > 4000 0.1504648383601819\n",
      "8 good run list 0.1504109231204035\n",
      "9 B_pt>10000 0.15041058325724382\n",
      "10 trk1_pt > 1400 0.11162741768518833\n",
      "11 trk2_pt > 1000 0.09611006742450333\n",
      "12 pT(kaon) > 1500 && pT(pion) > 1000 0.09106550558888792\n",
      "13 pT(kaon) > 1700 && pT(pion) > 1000 0.08288888358993517\n",
      "14 pT(kaon) > 2000 && pT(pion) > 1000 0.07413830649710473\n",
      "15 pT(kaon) > 2300 && pT(pion) > 1000 0.06792788257568562\n",
      "16 pT(kaon) > 1500 && pT(pion) > 1200 0.08220526207831133\n",
      "17 pT(kaon) > 1700 && pT(pion) > 1200 0.07481046267917213\n",
      "18 pT(kaon) > 2000 && pT(pion) > 1200 0.06696431686874882\n",
      "19 pT(kaon) > 2300 && pT(pion) > 1200 0.061451864384744335\n",
      "20 pT(kaon) > 1500 && pT(pion) > 1500 0.07383120507227053\n",
      "21 pT(kaon) > 1700 && pT(pion) > 1500 0.06685070163331033\n",
      "22 pT(kaon) > 2000 && pT(pion) > 1500 0.05973646469475286\n",
      "23 pT(kaon) > 2300 && pT(pion) > 1500 0.05487838643013616\n"
     ]
    }
   ],
   "source": [
    "plt.close()\n",
    "x = np.arange(len(survivedMultCands))\n",
    "arr = plt.bar(x, height=survivedMultCands)\n",
    "plt.xticks(x, [str(a) for a in range(len(survivedMultCands))])\n",
    "plt.title(\"Cutflow - survived MultCands\")\n",
    "plt.xlim([-0.5, len(survivedMultCands)-0.5])\n",
    "plt.show() \n",
    "for i, c in enumerate(cuts):\n",
    "    print(i,c,survivedMultCands[i])\n"
   ]
  },
  {
   "cell_type": "code",
   "execution_count": 20,
   "id": "015dad58",
   "metadata": {},
   "outputs": [
    {
     "name": "stdout",
     "output_type": "stream",
     "text": [
      "0 trig 2.4609498059802153\n",
      "1 run_number 2.4609498059802153\n",
      "2 jpsi 2.4606493996520182\n",
      "3 tau 2.4606497479738856\n",
      "4 tau_err 2.4583727132219924\n",
      "5 mass 2.3650605025998623\n",
      "6 mass_err in 10 , 100 2.35632795554859\n",
      "7 mu_pt > 4000 2.351965774799202\n",
      "8 good run list 2.351853871174504\n",
      "9 B_pt>10000 2.3518548069660317\n",
      "10 trk1_pt > 1400 2.3013920270684545\n",
      "11 trk2_pt > 1000 2.2960811708192113\n",
      "12 pT(kaon) > 1500 && pT(pion) > 1000 2.2905794620662965\n",
      "13 pT(kaon) > 1700 && pT(pion) > 1000 2.28085664056257\n",
      "14 pT(kaon) > 2000 && pT(pion) > 1000 2.270074671762749\n",
      "15 pT(kaon) > 2300 && pT(pion) > 1000 2.2625525815961502\n",
      "16 pT(kaon) > 1500 && pT(pion) > 1200 2.291137169348241\n",
      "17 pT(kaon) > 1700 && pT(pion) > 1200 2.282608882879314\n",
      "18 pT(kaon) > 2000 && pT(pion) > 1200 2.272530424612962\n",
      "19 pT(kaon) > 2300 && pT(pion) > 1200 2.265673420738975\n",
      "20 pT(kaon) > 1500 && pT(pion) > 1500 2.290451190147239\n",
      "21 pT(kaon) > 1700 && pT(pion) > 1500 2.2840674466620783\n",
      "22 pT(kaon) > 2000 && pT(pion) > 1500 2.274571686203787\n",
      "23 pT(kaon) > 2300 && pT(pion) > 1500 2.26703261220536\n"
     ]
    }
   ],
   "source": [
    "x = np.arange(len(meanMultCand))\n",
    "arr = plt.bar(x, height=meanMultCand)\n",
    "plt.xticks(x, [str(a) for a in range(len(meanMultCand))])\n",
    "plt.title(\"Cutflow - meanMultCand\")\n",
    "plt.xlim([-0.5, len(meanMultCand)-0.5])\n",
    "plt.show() \n",
    "for i, c in enumerate(cuts):\n",
    "    print(i,c,meanMultCand[i])"
   ]
  },
  {
   "cell_type": "code",
   "execution_count": 41,
   "id": "8db91dac",
   "metadata": {},
   "outputs": [
    {
     "name": "stdout",
     "output_type": "stream",
     "text": [
      "[0.8126907484279002, 0.8126907484279002, 0.8041611442718901, 0.8041590050371846, 0.8004460066668061, 0.641870717965198, 0.6366759430221967, 0.6315030358117397, 0.6073902952904511, 0.6073902952904511, 0.6073902952904511, 0.6073902952904511]\n",
      "0 trig 0.8126907484279002\n",
      "1 run_number 0.8126907484279002\n",
      "2 jpsi 0.8041611442718901\n",
      "3 tau 0.8041590050371846\n",
      "4 tau_err 0.8004460066668061\n",
      "5 mass 0.641870717965198\n",
      "6 mass_err in 10 , 100 0.6366759430221967\n",
      "7 mu_pt > 4000 0.6315030358117397\n",
      "8 good run list 0.6073902952904511\n",
      "9 B_pt>10000 0.6073902952904511\n",
      "10 trk1_pt > 1400 0.6073902952904511\n",
      "11 trk2_pt > 1000 0.6073902952904511\n"
     ]
    }
   ],
   "source": [
    "#for i in range(len(survived)):\n",
    "#    plt.text(arr[1][i],0.95*arr[0][i],'{:0.2f}'.format(survived[i]))\n",
    "print(survived)\n",
    "plt.title(\"Cutflow - survived events\")\n",
    "plt.xlim([0, len(survived)])\n",
    "#plt.yscale('log')\n",
    "#plt.xlabel('nCandidates')\n",
    "#plt.plot([], [], ' ', label=\"mean \"+'{:0.2f}'.format(np.mean(nCandidates)))\n",
    "#plt.plot([], [], ' ', label=\"single \"+'{:0.2f}'.format(np.mean(nCandidates)))\n",
    "#plt.legend()\n",
    "#pdf.savefig() \n",
    "plt.show()    \n",
    "pdf.set_font(\"Times\",'B', size = 10)\n",
    "\n",
    "for i, c in enumerate(cuts):\n",
    "    #pdf.cell(200, 6, txt = str(i)+\" \" +str(c), \n",
    "    #     ln = line, align = 'L')\n",
    "    #line += 1\n",
    "    print(i,c,survived[i])"
   ]
  },
  {
   "cell_type": "code",
   "execution_count": 17,
   "id": "a637c658",
   "metadata": {},
   "outputs": [
    {
     "data": {
      "text/plain": [
       "''"
      ]
     },
     "execution_count": 17,
     "metadata": {},
     "output_type": "execute_result"
    }
   ],
   "source": [
    "trigname = \"_trigsTest\" if useTriggers else \"\"\n",
    "pdf.output(name+trigname+\"_old.pdf\")"
   ]
  },
  {
   "cell_type": "markdown",
   "id": "9e443f2d",
   "metadata": {},
   "source": [
    "## pT cuts moved to main cuts"
   ]
  },
  {
   "cell_type": "code",
   "execution_count": 20,
   "id": "b422b26f",
   "metadata": {},
   "outputs": [
    {
     "name": "stdout",
     "output_type": "stream",
     "text": [
      "\u001b[1mhadrons pT cuts  \u001b[0m\n",
      "nEvents 2555359\n",
      "nEventsWithMultipleCandidates: 255103 nEventsWithSingleCandidate: 2300256 nCandidates: 2887355\n",
      "9.98% events have multiple candidates 1.13\n",
      "\n",
      "\u001b[1mpT(kaon) > 1500 && pT(pion) > 1000\u001b[0m\n",
      "nEventsAfterCut: 2342342 nEventsAfterCut/nEvents: 91.66%\n",
      "nEventsWithMultipleCandidates: 221706 nEventsWithSingleCandidate: 2120636 nCandidates: 2629597\n",
      "9.47% events have multiple candidates; mean(nCandidatesPerEvent): 1.12\n",
      "\n",
      "\u001b[1mpT(kaon) > 1700 && pT(pion) > 1000\u001b[0m\n",
      "nEventsAfterCut: 1995045 nEventsAfterCut/nEvents: 78.07%\n",
      "nEventsWithMultipleCandidates: 172230 nEventsWithSingleCandidate: 1822815 nCandidates: 2216494\n",
      "8.63% events have multiple candidates; mean(nCandidatesPerEvent): 1.11\n",
      "\n",
      "\u001b[1mpT(kaon) > 2000 && pT(pion) > 1000\u001b[0m\n",
      "nEventsAfterCut: 1609266 nEventsAfterCut/nEvents: 62.98%\n",
      "nEventsWithMultipleCandidates: 124603 nEventsWithSingleCandidate: 1484663 nCandidates: 1768103\n",
      "7.74% events have multiple candidates; mean(nCandidatesPerEvent): 1.10\n",
      "\n",
      "\u001b[1mpT(kaon) > 2300 && pT(pion) > 1000\u001b[0m\n",
      "nEventsAfterCut: 1332036 nEventsAfterCut/nEvents: 52.13%\n",
      "nEventsWithMultipleCandidates: 94608 nEventsWithSingleCandidate: 1237428 nCandidates: 1451960\n",
      "7.10% events have multiple candidates; mean(nCandidatesPerEvent): 1.09\n",
      "\n"
     ]
    }
   ],
   "source": [
    "if name == \"Bd\":\n",
    "    pTcuts = [[1500,1000],[1700,1000],[2000,1000],[2300,1000] #,[2500,1000],\n",
    "         #[1700,1200],[2000,1200],[2300,1200],[2500,1200],\n",
    "         #[1700,1500],[2000,1500],[2300,1500],[2500,1500],\n",
    "             ]\n",
    "    fSig = [.31838,.34833,.3876,.42175]\n",
    "    tau_results = [[1.518 ,0.0012],[1.52,0.00122],[1.5235,0.00127],[1.5253,0.00131]]\n",
    "    diff_over = [0, 0.0020, 0.0055,0.0073]\n",
    "elif name == \"Bplus\":\n",
    "    pTcuts = [[2500],[3000],[3500],[4000],]#[4500]]\n",
    "    fSig = [.36119,.42175,.46665,.45028]\n",
    "    tau_results = [[1.6309 ,0.0009],[1.6381,0.0009],[1.6395,0.001],[1.6179,0.0011]]\n",
    "    diff_over = [abs(r[0] - tau_results[0][0])/r[1] for r in tau_results]\n",
    "    \n",
    "pdf.add_page()\n",
    "pdf.set_font(\"Times\",'BU', size = 12)\n",
    "line = 1\n",
    "pdf.cell(200, 8, txt = \"harder pT cuts for hadrons\",\n",
    "         ln = line, align = 'C')\n",
    "line += 2\n",
    "\n",
    "\n",
    "print('\\033[1mhadrons pT cuts  \\033[0m')\n",
    "nEvents = np.sum((nCandidates>=1))\n",
    "#nEventsAfterCut=nEvents\n",
    "\n",
    "pdf.set_font(\"Times\",\"B\", size = 10)\n",
    "pdf.cell(200, 5, txt = \"new default after baseline cuts\", \n",
    "         ln = line, align = 'L')\n",
    "line += 1\n",
    "pdf.set_font(\"Times\", size = 10)\n",
    "pdf.cell(200, 5, txt = \"nEvents: \"+str(nEvents)+'; nEventsAfterCut/nEvents: 100%', \n",
    "         ln = line, align = 'L')\n",
    "line += 1\n",
    "pdf.cell(200, 5, txt = \"nEventsWithMultipleCandidates: \"+str(np.sum(multipleCandidates))+\"; nEventsWithSingleCandidate: \"+str(np.sum(singleCandidate))+\"; nCandidates: \"+str(np.sum(nCandidates)), \n",
    "         ln = line, align = 'L')\n",
    "line += 1\n",
    "pdf.cell(200, 5, txt = '{:2.2%}'.format(np.sum(multipleCandidates)/nEvents)+' events have multiple candidates; mean(nCandidatesPerEvent): {:0.2f}'.format(np.sum(nCandidates)/nEvents), \n",
    "         ln = line, align = 'L')\n",
    "line += 2\n",
    "\n",
    "print(\"nEvents\",nEvents,)\n",
    "print(\"nEventsWithMultipleCandidates:\",np.sum(multipleCandidates),\"nEventsWithSingleCandidate:\",np.sum(singleCandidate), \"nCandidates:\", np.sum(nCandidates))\n",
    "print('{:2.2%}'.format(np.sum(multipleCandidates)/nEvents),\"events have multiple candidates\",'{:0.2f}'.format(np.sum(nCandidates)/nEvents))\n",
    "print()\n",
    "\n",
    "#newCuts = finalCuts #* (vtx.B_trk1_pT>1700) * (vtx.B_trk2_pT>c[1])\n",
    "#K = vtx.B_trk1_pT[newCuts*singleCandidate]\n",
    "#K = list(chain.from_iterable(K))\n",
    "#print(np.min(K))\n",
    "pdf.line(10, 40, 200, 40)\n",
    "pdf.cell(200, 5, txt = \"\", \n",
    "         ln = line, align = 'L')\n",
    "\n",
    "for i,c in enumerate(pTcuts):\n",
    "    newCuts = finalCuts * (vtx.B_trk1_pT>c[0]) \n",
    "    if name == \"Bd\": newCuts =  newCuts * (vtx.B_trk2_pT>c[1])\n",
    "    chis = vtx.B_chi2_ndof[newCuts] \n",
    "    chis=np.array(chis)\n",
    "    \n",
    "    nCandidates = [len(chi) for chi in chis ]\n",
    "    nCandidates = np.array(nCandidates)\n",
    "    multipleCandidates = [nCand>1 for nCand in nCandidates ]\n",
    "    multipleCandidates = np.array(multipleCandidates)\n",
    "    singleCandidate = [nCand==1 for nCand in nCandidates ]\n",
    "    singleCandidate = np.array(singleCandidate)\n",
    "    if name == \"Bd\": \n",
    "        namePtCut = \"pT(kaon) > \" + str(c[0]) + \" && pT(pion) > \" + str(c[1])\n",
    "    elif name == \"Bplus\": \n",
    "        namePtCut = \"pT(kaon) > \" + str(c[0]) \n",
    "    print('\\033[1m' + namePtCut + '\\033[0m')\n",
    "    nEventsAfterCut = np.sum((nCandidates>=1))\n",
    "    print(\"nEventsAfterCut:\",nEventsAfterCut,'nEventsAfterCut/nEvents: {:2.2%}'.format(nEventsAfterCut/nEvents),)\n",
    "    print(\"nEventsWithMultipleCandidates:\",np.sum(multipleCandidates),\"nEventsWithSingleCandidate:\",np.sum(singleCandidate), \"nCandidates:\", np.sum(nCandidates))\n",
    "    print('{:2.2%}'.format(np.sum(multipleCandidates)/nEventsAfterCut),\"events have multiple candidates;\",'mean(nCandidatesPerEvent): {:0.2f}'.format(np.sum(nCandidates)/nEventsAfterCut))\n",
    "    print()\n",
    "    \n",
    "    pdf.set_font(\"Times\",'B', size = 10)\n",
    "    pdf.cell(200, 6, txt = namePtCut, \n",
    "         ln = line, align = 'L')\n",
    "    line += 1\n",
    "    pdf.set_font(\"Times\", size = 10)\n",
    "    pdf.cell(200, 5, txt = \"nEventsAfterCut: \"+str(nEventsAfterCut)+'; nEventsAfterCut/nEvents: {:2.2%}'.format(nEventsAfterCut/nEvents), \n",
    "         ln = line, align = 'L')\n",
    "    line += 1\n",
    "    pdf.cell(200, 5, txt = \"nEventsWithMultipleCandidates: \"+str(np.sum(multipleCandidates))+\"; nEventsWithSingleCandidate: \"+str(np.sum(singleCandidate))+\"; nCandidates: \"+str(np.sum(nCandidates)), \n",
    "             ln = line, align = 'L')\n",
    "    line += 1\n",
    "    pdf.cell(200, 5, txt = '{:2.2%}'.format(np.sum(multipleCandidates)/nEventsAfterCut)+' events have multiple candidates; mean(nCandidatesPerEvent): {:0.2f}'.format(np.sum(nCandidates)/nEventsAfterCut), \n",
    "             ln = line, align = 'L')\n",
    "    line += 2"
   ]
  },
  {
   "cell_type": "code",
   "execution_count": 94,
   "id": "b8e07490",
   "metadata": {},
   "outputs": [
    {
     "name": "stdout",
     "output_type": "stream",
     "text": [
      "\u001b[1mhadrons pT cuts  \u001b[0m\n",
      "\u001b[1mpT(kaon) > 1500 && pT(pion) > 1000\u001b[0m\n",
      "nEventsAfterCut/nEvents: 91.66%; 9.47% events have multiple candidates; mean(nCandidatesPerEvent): 1.12\n",
      "\n",
      "\u001b[1mpT(kaon) > 1700 && pT(pion) > 1000\u001b[0m\n",
      "nEventsAfterCut/nEvents: 78.07%; 8.63% events have multiple candidates; mean(nCandidatesPerEvent): 1.11\n",
      "\n",
      "\u001b[1mpT(kaon) > 2000 && pT(pion) > 1000\u001b[0m\n",
      "nEventsAfterCut/nEvents: 62.98%; 7.74% events have multiple candidates; mean(nCandidatesPerEvent): 1.10\n",
      "\n",
      "\u001b[1mpT(kaon) > 2300 && pT(pion) > 1000\u001b[0m\n",
      "nEventsAfterCut/nEvents: 52.13%; 7.10% events have multiple candidates; mean(nCandidatesPerEvent): 1.09\n",
      "\n",
      "\u001b[1mpT(kaon) > 1500 && pT(pion) > 1200\u001b[0m\n",
      "nEventsAfterCut/nEvents: 73.73%; 8.55% events have multiple candidates; mean(nCandidatesPerEvent): 1.11\n",
      "\n",
      "\u001b[1mpT(kaon) > 1700 && pT(pion) > 1200\u001b[0m\n",
      "nEventsAfterCut/nEvents: 64.07%; 7.80% events have multiple candidates; mean(nCandidatesPerEvent): 1.10\n",
      "\n",
      "\u001b[1mpT(kaon) > 2000 && pT(pion) > 1200\u001b[0m\n",
      "nEventsAfterCut/nEvents: 53.17%; 6.99% events have multiple candidates; mean(nCandidatesPerEvent): 1.09\n",
      "\n",
      "\u001b[1mpT(kaon) > 2300 && pT(pion) > 1200\u001b[0m\n",
      "nEventsAfterCut/nEvents: 44.98%; 6.43% events have multiple candidates; mean(nCandidatesPerEvent): 1.08\n",
      "\n",
      "\u001b[1mpT(kaon) > 1500 && pT(pion) > 1500\u001b[0m\n",
      "nEventsAfterCut/nEvents: 56.57%; 7.69% events have multiple candidates; mean(nCandidatesPerEvent): 1.10\n",
      "\n",
      "\u001b[1mpT(kaon) > 1700 && pT(pion) > 1500\u001b[0m\n",
      "nEventsAfterCut/nEvents: 50.13%; 6.98% events have multiple candidates; mean(nCandidatesPerEvent): 1.09\n",
      "\n",
      "\u001b[1mpT(kaon) > 2000 && pT(pion) > 1500\u001b[0m\n",
      "nEventsAfterCut/nEvents: 42.77%; 6.25% events have multiple candidates; mean(nCandidatesPerEvent): 1.08\n",
      "\n",
      "\u001b[1mpT(kaon) > 2300 && pT(pion) > 1500\u001b[0m\n",
      "nEventsAfterCut/nEvents: 37.12%; 5.75% events have multiple candidates; mean(nCandidatesPerEvent): 1.07\n",
      "\n"
     ]
    },
    {
     "data": {
      "text/plain": [
       "''"
      ]
     },
     "execution_count": 94,
     "metadata": {},
     "output_type": "execute_result"
    }
   ],
   "source": [
    "pdf = FPDF()\n",
    "pdf.add_page()\n",
    "pdf.set_font(\"Times\", 'B', size = 15)\n",
    "\n",
    "nCandidates = [len(chi) for chi in vtx.B_chi2_ndof[finalCuts] ]\n",
    "nCandidates = np.array(nCandidates)\n",
    "\n",
    "# create a cell\n",
    "pdf.cell(200, 10, txt = name + ' 2017 (2.5 M subset) ', \n",
    "         ln = 1, align = 'C')\n",
    "\n",
    "pdf.set_font(\"Times\", size = 12)\n",
    "pdf.set_text_color(200,200,200);\n",
    "\n",
    "# add another cell\n",
    "pdf.cell(200, 8, txt = file_name,\n",
    "         ln = 2, align = 'C')\n",
    "pdf.cell(200, 6, txt = \"Marek Biros\",\n",
    "         ln = 3, align = 'C')\n",
    "  \n",
    "# save the pdf with name .pdf\n",
    "pdf.set_text_color(0,0,0);\n",
    "\n",
    "pdf.set_font(\"Times\", 'BU', size = 12)\n",
    "line = 5\n",
    "pdf.cell(200, 8, txt = \"pTcuts results\",\n",
    "         ln = line, align = 'C')\n",
    "line += 2\n",
    "if name == \"Bd\":\n",
    "    pTcuts = [[1500,1000],[1700,1000],[2000,1000],[2300,1000],\n",
    "         [1500,1200],[1700,1200],[2000,1200],[2300,1200],\n",
    "         [1500,1500],[1700,1500],[2000,1500],[2300,1500]]\n",
    "    fsig = [.31838,.34833,.3876,.42175]\n",
    "    tau_results = [[1.518 ,0.0012],[1.52,0.00122],[1.5235,0.00127],[1.5253,0.00131]]\n",
    "    diff_over = [0, 0.0020, 0.0055,0.0073]\n",
    "elif name == \"Bplus\":\n",
    "    pTcuts = [[2500],[3000],[3500],[4000],]#[4500]]\n",
    "    fsig = [.36119,.42175,.46665,.45028]\n",
    "    tau_results = [[1.6309 ,0.0009],[1.6381,0.0009],[1.6395,0.001],[1.6179,0.0011]]\n",
    "    diff_over = [abs(r[0] - tau_results[0][0])/r[1] for r in tau_results]\n",
    "    \n",
    "\n",
    "\n",
    "\n",
    "print('\\033[1mhadrons pT cuts  \\033[0m')\n",
    "nEvents = np.sum((nCandidates>=1))\n",
    "#nEventsAfterCut=nEvents\n",
    "\n",
    "pdf.set_font(\"Times\",\"B\", size = 10)\n",
    "pdf.cell(200, 5, txt = \"new default after baseline cuts\", \n",
    "         ln = line, align = 'L')\n",
    "line += 1\n",
    "pdf.set_font(\"Times\", size = 10)\n",
    "pdf.cell(200, 5, txt = \"nEvents: \"+str(nEvents), \n",
    "         ln = line, align = 'L')\n",
    "line += 1\n",
    "pdf.cell(200, 5, txt = \"nEventsWithMultipleCandidates: \"+str(np.sum(multipleCandidates))+\"; nEventsWithSingleCandidate: \"+str(np.sum(singleCandidate))+\"; nCandidates: \"+str(np.sum(nCandidates)), \n",
    "         ln = line, align = 'L')\n",
    "line += 2\n",
    "\n",
    "pdf.line(10, 60, 200, 60)\n",
    "pdf.cell(200, 3, txt = \"\", \n",
    "         ln = line, align = 'L')\n",
    "\n",
    "for i,c in enumerate(pTcuts):\n",
    "    newCuts = finalCuts * (vtx.B_trk1_pT>c[0]) \n",
    "    if name == \"Bd\": newCuts =  newCuts * (vtx.B_trk2_pT>c[1])\n",
    "    chis = vtx.B_chi2_ndof[newCuts] \n",
    "    chis=np.array(chis)\n",
    "    \n",
    "    nCandidates = [len(chi) for chi in chis ]\n",
    "    nCandidates = np.array(nCandidates)\n",
    "    multipleCandidates = [nCand>1 for nCand in nCandidates ]\n",
    "    multipleCandidates = np.array(multipleCandidates)\n",
    "    singleCandidate = [nCand==1 for nCand in nCandidates ]\n",
    "    singleCandidate = np.array(singleCandidate)\n",
    "    if name == \"Bd\": \n",
    "        namePtCut = \"pT(kaon) > \" + str(c[0]) + \" && pT(pion) > \" + str(c[1])\n",
    "    elif name == \"Bplus\": \n",
    "        namePtCut = \"pT(kaon) > \" + str(c[0]) \n",
    "    nEventsAfterCut = np.sum((nCandidates>=1))\n",
    "    \n",
    "    \n",
    "    pdf.set_font(\"Times\",'B', size = 10)\n",
    "    pdf.cell(200, 6, txt = namePtCut, \n",
    "         ln = line, align = 'L')\n",
    "    line += 1\n",
    "    pdf.set_font(\"Times\", size = 10)\n",
    "    txt1 = 'nEventsAfterCut/nEvents: {:2.2%}'.format(nEventsAfterCut/nEvents)+'; {:2.2%}'.format(np.sum(multipleCandidates)/nEventsAfterCut)+' events have multiple candidates; mean(nCandidatesPerEvent): {:0.2f}'.format(np.sum(nCandidates)/nEventsAfterCut)\n",
    "    #txt2 = 'FitResults: fsig: {:0.2f}'.format(fsig[i])+'; tau: {:0.3f}'.format(tau_results[i][0])+' +- {:0.3f}'.format(tau_results[i][1])\n",
    "    txt = [txt1]#,txt2]\n",
    "    print('\\033[1m' + namePtCut + '\\033[0m')\n",
    "    for t in txt :\n",
    "        pdf.cell(200, 5, txt = t,  \n",
    "             ln = line, align = 'L')\n",
    "        line += 1\n",
    "        print(t)\n",
    "    \n",
    "    line += 1\n",
    "    print()\n",
    "    \n",
    "    \n",
    "pdf.output(name+\"_pTcuts.pdf\")"
   ]
  },
  {
   "cell_type": "markdown",
   "id": "feee20c2",
   "metadata": {},
   "source": [
    "# test prints"
   ]
  },
  {
   "cell_type": "code",
   "execution_count": 17,
   "id": "59c0de6f",
   "metadata": {},
   "outputs": [
    {
     "name": "stdout",
     "output_type": "stream",
     "text": [
      "events 2500000 nEventsWithMultipleCandidates: 78027 nEventsWithsingleCandidate: 704781 nCandidates: 885589\n",
      "3.12% events have multiple candidates\n"
     ]
    }
   ],
   "source": [
    "#print(nMultipleCandidates[:20])\n",
    "print(\"events\",nEvents,\"nEventsWithMultipleCandidates:\",np.sum(multipleCandidates),\"nEventsWithsingleCandidate:\",np.sum(singleCandidate), \"nCandidates:\", np.sum(nCandidates))\n",
    "print('{:2.2%}'.format(np.sum(multipleCandidates)/nEvents),\"events have multiple candidates\")\n"
   ]
  },
  {
   "cell_type": "code",
   "execution_count": 16,
   "id": "8904f53a",
   "metadata": {},
   "outputs": [
    {
     "data": {
      "text/plain": [
       "'1400.00'"
      ]
     },
     "execution_count": 16,
     "metadata": {},
     "output_type": "execute_result"
    }
   ],
   "source": [
    "'{:0.2f}'.format(np.min(list(chain.from_iterable(np.array(vtx.B_trk1_pT)))))\n"
   ]
  },
  {
   "cell_type": "code",
   "execution_count": 185,
   "id": "d4d3e8b6",
   "metadata": {},
   "outputs": [
    {
     "data": {
      "text/plain": [
       "'1.70'"
      ]
     },
     "execution_count": 185,
     "metadata": {},
     "output_type": "execute_result"
    }
   ],
   "source": [
    "'{:0.2f}'.format(np.mean(nCandidates))\n"
   ]
  },
  {
   "cell_type": "code",
   "execution_count": 10,
   "id": "63b33024",
   "metadata": {},
   "outputs": [
    {
     "name": "stdout",
     "output_type": "stream",
     "text": [
      "0 [1.] [-1.]\n",
      "1 [1.] [-1.]\n",
      "2 [1.] [-1.]\n",
      "3 [1.] [-1.]\n",
      "4 [1.] [-1.]\n"
     ]
    }
   ],
   "source": [
    "for i in range(5):\n",
    "    #print(i, vtx.evt_number[i],vtx.B_chi2_ndof[i],vtx.B_mass[i],vtx.B_trk1_pT[i])\n",
    "    #if vtx.B_trk1_pT[i] > vtx.B_trk2_pT[i]: print(i, vtx.B_trk1_pT[i], vtx.B_trk2_pT[i])\n",
    "    print(i, vtx.B_trk1_charge[i],vtx.B_trk2_charge[i])"
   ]
  },
  {
   "cell_type": "markdown",
   "id": "53f11fce",
   "metadata": {},
   "source": [
    "## plot nCandidates histograms"
   ]
  },
  {
   "cell_type": "code",
   "execution_count": 25,
   "id": "0d3c802b",
   "metadata": {},
   "outputs": [],
   "source": [
    "pdf = PdfPages(name+'ResultsBLS_new_2300_1500finalCuts.pdf')"
   ]
  },
  {
   "cell_type": "code",
   "execution_count": 26,
   "id": "96537245",
   "metadata": {},
   "outputs": [
    {
     "data": {
      "application/vnd.jupyter.widget-view+json": {
       "model_id": "",
       "version_major": 2,
       "version_minor": 0
      },
      "text/plain": [
       "Canvas(toolbar=Toolbar(toolitems=[('Home', 'Reset original view', 'home', 'home'), ('Back', 'Back to previous …"
      ]
     },
     "metadata": {},
     "output_type": "display_data"
    }
   ],
   "source": [
    "maxCandidates = max(nCandidates)\n",
    "plt.hist(nCandidates, density=True, bins=maxCandidates-1,)#bins='auto'  # arguments are passed to np.histogram label=\"mean\"+'{:0.2f}'.format(np.mean(nCandidates))\n",
    "plt.title(\"Histogram of nCandidates per event (semiLog)\")\n",
    "plt.xlim([1, maxCandidates])\n",
    "plt.yscale('log')\n",
    "plt.xlabel('nCandidates')\n",
    "plt.plot([], [], ' ', label=\"mean \"+'{:0.2f}'.format(np.mean(nCandidates)))\n",
    "plt.plot([], [], ' ', label=\"single \"+'{:0.2f}'.format(np.mean(nCandidates)))\n",
    "plt.legend()\n",
    "pdf.savefig() \n",
    "plt.show()\n"
   ]
  },
  {
   "cell_type": "code",
   "execution_count": 27,
   "id": "16c080ae",
   "metadata": {},
   "outputs": [],
   "source": [
    "plt.close()"
   ]
  },
  {
   "cell_type": "markdown",
   "id": "4f9c5896",
   "metadata": {},
   "source": [
    "## plot vars histograms"
   ]
  },
  {
   "cell_type": "code",
   "execution_count": 28,
   "id": "6e9785ab",
   "metadata": {},
   "outputs": [],
   "source": [
    "X = {\"Chi2/ndf\" : chis, \n",
    "     \"Lifetime\" : taus,\n",
    "     \"B_mass\" : masses,\n",
    "     \"B_trk1_pT\" : tr1Pts,\n",
    "     \"B_trk2_pT\" : tr2Pts\n",
    "    }\n",
    "Xlims = {\"Chi2/ndf\" : [[0,2.5]], \n",
    "         \"Lifetime\" : [[-2,20],[-1,2]],\n",
    "         \"B_mass\" : [[5000,5650]],\n",
    "         \"B_trk1_pT\" : [[1000,10000]],\n",
    "         \"B_trk2_pT\" : [[500,10000]]\n",
    "        }"
   ]
  },
  {
   "cell_type": "code",
   "execution_count": 29,
   "id": "b5710010",
   "metadata": {},
   "outputs": [
    {
     "name": "stdout",
     "output_type": "stream",
     "text": [
      "\u001b[1mChi2/ndf\u001b[0m\n",
      "all candidates 1017940 1.2183642 0.6926809\n"
     ]
    },
    {
     "data": {
      "application/vnd.jupyter.widget-view+json": {
       "model_id": "",
       "version_major": 2,
       "version_minor": 0
      },
      "text/plain": [
       "Canvas(toolbar=Toolbar(toolitems=[('Home', 'Reset original view', 'home', 'home'), ('Back', 'Back to previous …"
      ]
     },
     "metadata": {},
     "output_type": "display_data"
    },
    {
     "name": "stdout",
     "output_type": "stream",
     "text": [
      "only multiple candidates 123995 1.2688614 0.7018436\n",
      "only single candidate 893945 1.2113597 0.69110906\n",
      "\u001b[1mLifetime\u001b[0m\n",
      "all candidates 1017940 0.72535086 1.2531403\n"
     ]
    },
    {
     "data": {
      "application/vnd.jupyter.widget-view+json": {
       "model_id": "",
       "version_major": 2,
       "version_minor": 0
      },
      "text/plain": [
       "Canvas(toolbar=Toolbar(toolitems=[('Home', 'Reset original view', 'home', 'home'), ('Back', 'Back to previous …"
      ]
     },
     "metadata": {},
     "output_type": "display_data"
    },
    {
     "name": "stdout",
     "output_type": "stream",
     "text": [
      "only multiple candidates 123995 0.056136813 0.20782132\n",
      "only single candidate 893945 0.8181743 1.3082249\n",
      "all candidates 1017940 0.72535086 1.2531403\n"
     ]
    },
    {
     "data": {
      "application/vnd.jupyter.widget-view+json": {
       "model_id": "",
       "version_major": 2,
       "version_minor": 0
      },
      "text/plain": [
       "Canvas(toolbar=Toolbar(toolitems=[('Home', 'Reset original view', 'home', 'home'), ('Back', 'Back to previous …"
      ]
     },
     "metadata": {},
     "output_type": "display_data"
    },
    {
     "name": "stdout",
     "output_type": "stream",
     "text": [
      "only multiple candidates 123995 0.056136813 0.20782132\n",
      "only single candidate 893945 0.8181743 1.3082249\n",
      "\u001b[1mB_mass\u001b[0m\n",
      "all candidates 1017940 5275.0693 151.46721\n"
     ]
    },
    {
     "data": {
      "application/vnd.jupyter.widget-view+json": {
       "model_id": "",
       "version_major": 2,
       "version_minor": 0
      },
      "text/plain": [
       "Canvas(toolbar=Toolbar(toolitems=[('Home', 'Reset original view', 'home', 'home'), ('Back', 'Back to previous …"
      ]
     },
     "metadata": {},
     "output_type": "display_data"
    },
    {
     "name": "stdout",
     "output_type": "stream",
     "text": [
      "only multiple candidates 123995 5294.3525 181.80653\n",
      "only single candidate 893945 5272.3936 146.56425\n",
      "\u001b[1mB_trk1_pT\u001b[0m\n",
      "all candidates 1017940 5513.9624 4050.952\n"
     ]
    },
    {
     "data": {
      "application/vnd.jupyter.widget-view+json": {
       "model_id": "",
       "version_major": 2,
       "version_minor": 0
      },
      "text/plain": [
       "Canvas(toolbar=Toolbar(toolitems=[('Home', 'Reset original view', 'home', 'home'), ('Back', 'Back to previous …"
      ]
     },
     "metadata": {},
     "output_type": "display_data"
    },
    {
     "name": "stdout",
     "output_type": "stream",
     "text": [
      "only multiple candidates 123995 5217.713 3692.2947\n",
      "only single candidate 893945 5555.054 4096.5293\n",
      "\u001b[1mB_trk2_pT\u001b[0m\n",
      "all candidates 1017940 3984.8118 2933.4207\n"
     ]
    },
    {
     "data": {
      "application/vnd.jupyter.widget-view+json": {
       "model_id": "",
       "version_major": 2,
       "version_minor": 0
      },
      "text/plain": [
       "Canvas(toolbar=Toolbar(toolitems=[('Home', 'Reset original view', 'home', 'home'), ('Back', 'Back to previous …"
      ]
     },
     "metadata": {},
     "output_type": "display_data"
    },
    {
     "name": "stdout",
     "output_type": "stream",
     "text": [
      "only multiple candidates 123995 3804.1682 2489.1836\n",
      "only single candidate 893945 4009.8687 2988.9685\n"
     ]
    }
   ],
   "source": [
    "for xName in X:\n",
    "    x = X[xName]\n",
    "    unpackedLists = {\n",
    "        \"all candidates\" : list(chain.from_iterable(x)),\n",
    "        \"only multiple candidates\" : list(chain.from_iterable(x[multipleCandidates])),\n",
    "        \"only single candidate\" : list(chain.from_iterable(x[singleCandidate]))}\n",
    "    print('\\033[1m' + xName + '\\033[0m')\n",
    "    for xlim in Xlims[xName]:\n",
    "        for yName in unpackedLists:\n",
    "            y = unpackedLists[yName]\n",
    "            print(yName, len(y), np.mean(y), np.std(y))\n",
    "            plt.hist(y, bins=100, label=yName, range=xlim,density=True,histtype='step')#bins='auto'  # arguments are passed to np.histogram # log=True, \n",
    "            #fig, ax = plt.subplots()\n",
    "        \n",
    "        plt.title(\"Histogram of \" + xName )\n",
    "        plt.xlabel(xName)\n",
    "\n",
    "        plt.legend()\n",
    "        pdf.savefig()\n",
    "        plt.yscale('log')\n",
    "        plt.title(\"Histogram of \" + xName +\" (semiLog)\")\n",
    "        pdf.savefig()\n",
    "#    if xName == \"Lifetime\":\n",
    "#        plt.title(xName +  \" zoom\")\n",
    "#        plt.xlim([-1,2])\n",
    "#        pdf.savefig()\n",
    "#        plt.yscale('linear')\n",
    "#        pdf.savefig()\n",
    "        \n",
    "        plt.close()"
   ]
  },
  {
   "cell_type": "code",
   "execution_count": 30,
   "id": "84315c6f",
   "metadata": {},
   "outputs": [],
   "source": [
    "pdf.close()\n"
   ]
  },
  {
   "cell_type": "markdown",
   "id": "9e70a290",
   "metadata": {},
   "source": [
    "## yiels after cuts"
   ]
  },
  {
   "cell_type": "code",
   "execution_count": 111,
   "id": "5e7c055e",
   "metadata": {
    "scrolled": true
   },
   "outputs": [
    {
     "name": "stdout",
     "output_type": "stream",
     "text": [
      "( 1.00 ) 650000 840592 1.29\n",
      "0.8023646153846153\n"
     ]
    },
    {
     "data": {
      "image/png": "[encoded data removed]",
      "text/plain": [
       "<Figure size 432x288 with 1 Axes>"
      ]
     },
     "metadata": {
      "needs_background": "light"
     },
     "output_type": "display_data"
    },
    {
     "name": "stdout",
     "output_type": "stream",
     "text": [
      "( 0.36 ) 233552 269618 1.15\n",
      "0.888478797013085\n"
     ]
    },
    {
     "data": {
      "image/png": "[encoded data removed]",
      "text/plain": [
       "<Figure size 432x288 with 1 Axes>"
      ]
     },
     "metadata": {
      "needs_background": "light"
     },
     "output_type": "display_data"
    },
    {
     "name": "stdout",
     "output_type": "stream",
     "text": [
      "( 0.15 ) 97580 107471 1.10\n",
      "0.9252715720434513\n"
     ]
    },
    {
     "data": {
      "image/png": "[encoded data removed]",
      "text/plain": [
       "<Figure size 432x288 with 1 Axes>"
      ]
     },
     "metadata": {
      "needs_background": "light"
     },
     "output_type": "display_data"
    },
    {
     "name": "stdout",
     "output_type": "stream",
     "text": [
      "( 0.10 ) 68004 73810 1.09\n",
      "0.9367537203693901\n"
     ]
    },
    {
     "data": {
      "image/png": "[encoded data removed]",
      "text/plain": [
       "<Figure size 432x288 with 1 Axes>"
      ]
     },
     "metadata": {
      "needs_background": "light"
     },
     "output_type": "display_data"
    },
    {
     "name": "stdout",
     "output_type": "stream",
     "text": [
      "( 0.01 ) 8315 8606 1.03\n",
      "0.9711365003006615\n"
     ]
    },
    {
     "data": {
      "image/png": "[encoded data removed]",
      "text/plain": [
       "<Figure size 432x288 with 1 Axes>"
      ]
     },
     "metadata": {
      "needs_background": "light"
     },
     "output_type": "display_data"
    }
   ],
   "source": [
    "pdf = PdfPages('cuts.pdf')\n",
    "nCandidates = np.array([len(chi) for chi in vtx.B_chi2_ndof])\n",
    "#print(np.mean(nCandidates))\n",
    "\n",
    "maxCandidates = max(nCandidates)\n",
    "n = plt.hist(nCandidates, density=True, bins=maxCandidates-1,label=\"mean\"+'{:0.2f}'.format(np.mean(nCandidates)))#bins='auto'  # arguments are passed to np.histogram\n",
    "print(\"(\",'{:0.2f}'.format(len(nCandidates)/650000),\")\",len(nCandidates),np.sum(nCandidates),'{:0.2f}'.format(np.sum(nCandidates)/len(nCandidates)))\n",
    "print(n[0][0]/np.sum(n[0]))\n",
    "plt.title(\"Histogram of nCandidates per event (semiLog)\")\n",
    "plt.xlim([1, maxCandidates])\n",
    "plt.yscale('log')\n",
    "plt.xlabel('nCandidates')\n",
    "plt.plot([], [], ' ', label=\"Extra label on the legend\")\n",
    "plt.legend()\n",
    "pdf.savefig() \n",
    "plt.show()\n",
    "\n",
    "\n",
    "nCandidates = np.array([len(chi) for chi in vtx.B_chi2_ndof]#[(vtx.B_trk1_pT>1700)*(vtx.B_trk2_pT>1000)]  if len(chi) != 0  ])\n",
    "maxCandidates = max(nCandidates)\n",
    "n = plt.hist(nCandidates, density=True, bins=maxCandidates-1,label=\"mean\"+'{:0.2f}'.format(np.mean(nCandidates)))#bins='auto'  # arguments are passed to np.histogram\n",
    "print(\"(\",'{:0.2f}'.format(len(nCandidates)/650000),\")\",len(nCandidates),np.sum(nCandidates),'{:0.2f}'.format(np.sum(nCandidates)/len(nCandidates)))\n",
    "print(n[0][0]/np.sum(n[0]))\n",
    "plt.title(\"(B_trk1_pT>1700)*(.B_trk2_pT>1000) (semiLog)\")\n",
    "plt.xlim([1, maxCandidates])\n",
    "plt.yscale('log')\n",
    "plt.xlabel('nCandidates')\n",
    "plt.legend()\n",
    "pdf.savefig() \n",
    "plt.show()\n",
    "\n",
    "\n",
    "nCandidates = np.array([len(chi) for chi in vtx.B_chi2_ndof[(vtx.B_trk1_pT>2500)*(vtx.B_trk2_pT>1500)]  if len(chi) != 0  ])\n",
    "maxCandidates = max(nCandidates)\n",
    "n = plt.hist(nCandidates, density=True, bins=maxCandidates-1,label=\"mean\"+'{:0.2f}'.format(np.mean(nCandidates)))#bins='auto'  # arguments are passed to np.histogram\n",
    "print(\"(\",'{:0.2f}'.format(len(nCandidates)/650000),\")\",len(nCandidates),np.sum(nCandidates),'{:0.2f}'.format(np.sum(nCandidates)/len(nCandidates)))\n",
    "print(n[0][0]/np.sum(n[0]))\n",
    "plt.title(\"(B_trk1_pT>2500)*(.B_trk2_pT>1500) (semiLog)\")\n",
    "plt.xlim([1, maxCandidates])\n",
    "plt.yscale('log')\n",
    "plt.xlabel('nCandidates')\n",
    "plt.legend()\n",
    "pdf.savefig() \n",
    "plt.show()\n",
    "\n",
    "\n",
    "#print(len(vtx.B_chi2_ndof),len(vtx.B_chi2_ndof[(vtx.B_trk1_pT>1000)*(vtx.B_trk2_pT>1000)  ]))\n",
    "nCandidates = np.array([len(chi) for chi in vtx.B_chi2_ndof[(vtx.B_trk1_pT>3000)*(vtx.B_trk2_pT>1800)]  if len(chi) != 0  ])\n",
    "maxCandidates = max(nCandidates)\n",
    "n = plt.hist(nCandidates, density=True, bins=maxCandidates-1,label=\"mean\"+'{:0.2f}'.format(np.mean(nCandidates)))#bins='auto'  # arguments are passed to np.histogram\n",
    "print(\"(\",'{:0.2f}'.format(len(nCandidates)/650000),\")\",len(nCandidates),np.sum(nCandidates),'{:0.2f}'.format(np.sum(nCandidates)/len(nCandidates)))\n",
    "print(n[0][0]/np.sum(n[0]))\n",
    "plt.title(\"(B_trk1_pT>3000)*(.B_trk2_pT>1800) (semiLog)\")\n",
    "plt.xlim([1, maxCandidates])\n",
    "plt.yscale('log')\n",
    "plt.xlabel('nCandidates')\n",
    "plt.legend()\n",
    "pdf.savefig() \n",
    "plt.show()\n",
    "\n",
    "\n",
    "nCandidates = np.array([len(chi) for chi in vtx.B_chi2_ndof[(vtx.B_trk1_pT>7500)*(vtx.B_trk2_pT>5000)]  if len(chi) != 0  ])\n",
    "maxCandidates = max(nCandidates)\n",
    "n = plt.hist(nCandidates, density=True, bins=maxCandidates-1,label=\"mean\"+'{:0.2f}'.format(np.mean(nCandidates)))#bins='auto'  # arguments are passed to np.histogram\n",
    "print(\"(\",'{:0.2f}'.format(len(nCandidates)/650000),\")\",len(nCandidates),np.sum(nCandidates),'{:0.2f}'.format(np.sum(nCandidates)/len(nCandidates)))\n",
    "print(n[0][0]/np.sum(n[0]))\n",
    "plt.title(\"(B_trk1_pT>7500)*(.B_trk2_pT>5000) (semiLog)\")\n",
    "plt.xlim([1, maxCandidates])\n",
    "plt.yscale('log')\n",
    "plt.xlabel('nCandidates')\n",
    "plt.legend()\n",
    "pdf.savefig() \n",
    "plt.show()\n",
    "\n",
    "\n",
    "#print(np.sum((vtx.B_trk1_pT>1000)*(vtx.B_trk2_pT>1000)))\n",
    "#print(vtx.B_chi2_ndof[(vtx.B_trk1_pT>1000)*(vtx.B_trk2_pT>1000)].count().sum())\n",
    "#print(vtx.B_chi2_ndof[(vtx.B_trk1_pT>1000)*(vtx.B_trk2_pT>1000)])\n",
    "pdf.close()"
   ]
  },
  {
   "cell_type": "code",
   "execution_count": 106,
   "id": "680618ce",
   "metadata": {},
   "outputs": [
    {
     "ename": "SyntaxError",
     "evalue": "invalid syntax (<ipython-input-106-038c67d3e0e0>, line 3)",
     "output_type": "error",
     "traceback": [
      "\u001b[0;36m  File \u001b[0;32m\"<ipython-input-106-038c67d3e0e0>\"\u001b[0;36m, line \u001b[0;32m3\u001b[0m\n\u001b[0;31m    print(n[0]/np.sum(n[0]))\u001b[0m\n\u001b[0m    ^\u001b[0m\n\u001b[0;31mSyntaxError\u001b[0m\u001b[0;31m:\u001b[0m invalid syntax\n"
     ]
    }
   ],
   "source": [
    "nCandidates = np.array([len(chi) for chi in vtx.B_chi2_ndof[(vtx.B_trk1_pT>2000)*(vtx.B_trk2_pT>1200)]  if len(chi) != 0  ])\n",
    "print(len(nCandidates),\"(\",np.sum(nCandidates)('{:0.2f}'.format(len(nCandidates)/650000),\")\",'{:0.2f}'.format(np.sum(nCandidates)/len(nCandidates)))\n",
    "print(n[0]/np.sum(n[0]))\n",
    "#print(np.mean(nCandidates))\n",
    "\n",
    "maxCandidates = max(nCandidates)\n",
    "plt.hist(nCandidates, density=True, bins=maxCandidates,label=\"mean\"+'{:0.2f}'.format(np.mean(nCandidates)))#bins='auto'  # arguments are passed to np.histogram\n",
    "plt.title(\"(B_trk1_pT>2000)*(.B_trk2_pT>1200) (semiLog)\")\n",
    "plt.xlim([1, maxCandidates])\n",
    "plt.yscale('log')\n",
    "plt.xlabel('nCandidates')\n",
    "plt.legend()\n",
    "pdf.savefig() \n",
    "plt.show()\n",
    "\n",
    "      \n",
    "mins = [[]]\n",
    "maxCandidates = max(nCandidates)\n",
    "plt.hist(nCandidates, density=True, bins=maxCandidates,label=\"mean\"+'{:0.2f}'.format(np.mean(nCandidates)))#bins='auto'  # arguments are passed to np.histogram\n",
    "plt.title(\"(B_trk1_pT>3000)*(.B_trk2_pT>1800) (semiLog)\")\n",
    "plt.xlim([1, maxCandidates])\n",
    "plt.yscale('log')\n",
    "plt.xlabel('nCandidates')\n",
    "plt.legend()\n",
    "pdf.savefig() \n",
    "plt.show()\n",
    "\n",
    "nCandidates = np.array([len(chi) for chi in vtx.B_chi2_ndof[(vtx.B_trk1_pT>5000)*(vtx.B_trk2_pT>2500)]  if len(chi) != 0  ])\n",
    "print(len(nCandidates),np.sum(nCandidates),'{:0.2f}'.format(np.sum(nCandidates)/len(nCandidates)))\n",
    "print('{:0.2f}'.format(len(nCandidates)/650000))\n",
    "#print(np.mean(nCandidates))\n",
    "\n",
    "\n",
    "\n",
    "nCandidates = np.array([len(chi) for chi in vtx.B_chi2_ndof[(vtx.B_trk1_pT>5000)*(vtx.B_trk2_pT>2500)]  if len(chi) != 0  ])\n",
    "print(len(nCandidates),np.sum(nCandidates),'{:0.2f}'.format(np.sum(nCandidates)/len(nCandidates)))\n",
    "print('{:0.2f}'.format(len(nCandidates)/650000))\n",
    "#print(np.mean(nCandidates))\n",
    "\n",
    "maxCandidates = max(nCandidates)\n",
    "plt.hist(nCandidates, density=True, bins=maxCandidates,label=\"mean\"+'{:0.2f}'.format(np.mean(nCandidates)))#bins='auto'  # arguments are passed to np.histogram\n",
    "plt.title(\"(B_trk1_pT>5000)*(.B_trk2_pT>2500) (semiLog)\")\n",
    "plt.xlim([1, maxCandidates])\n",
    "plt.yscale('log')\n",
    "plt.xlabel('nCandidates')\n",
    "plt.legend()\n",
    "pdf.savefig() \n",
    "plt.show()"
   ]
  },
  {
   "cell_type": "markdown",
   "id": "ea9c360d",
   "metadata": {},
   "source": [
    "## bin"
   ]
  },
  {
   "cell_type": "code",
   "execution_count": null,
   "id": "25cac7ac",
   "metadata": {},
   "outputs": [],
   "source": []
  },
  {
   "cell_type": "code",
   "execution_count": 13,
   "id": "88c49a0e",
   "metadata": {},
   "outputs": [],
   "source": [
    "x = X[\"B_trk1_pT\"]\n",
    "unpackedLists = {\n",
    "    \"all candidates\" : np.array(chain.from_iterable(x)),\n",
    "    \"only multiple candidates\" : np.array(chain.from_iterable(x[multipleCandidates])),\n",
    "    \"only single candidate\" : np.array(chain.from_iterable(x[singleCandidate]))}\n",
    "\n"
   ]
  },
  {
   "cell_type": "code",
   "execution_count": 62,
   "id": "11ddacf5",
   "metadata": {},
   "outputs": [
    {
     "ename": "TypeError",
     "evalue": "'>' not supported between instances of 'list' and 'int'",
     "output_type": "error",
     "traceback": [
      "\u001b[0;31m---------------------------------------------------------------------------\u001b[0m",
      "\u001b[0;31mTypeError\u001b[0m                                 Traceback (most recent call last)",
      "\u001b[0;32m<ipython-input-62-bf4b6385a33a>\u001b[0m in \u001b[0;36m<module>\u001b[0;34m\u001b[0m\n\u001b[1;32m      1\u001b[0m \u001b[0;32mfor\u001b[0m \u001b[0mu\u001b[0m \u001b[0;32min\u001b[0m \u001b[0munpackedLists\u001b[0m\u001b[0;34m:\u001b[0m\u001b[0;34m\u001b[0m\u001b[0;34m\u001b[0m\u001b[0m\n\u001b[0;32m----> 2\u001b[0;31m     \u001b[0mprint\u001b[0m\u001b[0;34m(\u001b[0m\u001b[0mnp\u001b[0m\u001b[0;34m.\u001b[0m\u001b[0msum\u001b[0m\u001b[0;34m(\u001b[0m\u001b[0munpackedLists\u001b[0m\u001b[0;34m[\u001b[0m\u001b[0mu\u001b[0m\u001b[0;34m]\u001b[0m\u001b[0;34m>\u001b[0m\u001b[0;36m1000\u001b[0m\u001b[0;34m)\u001b[0m\u001b[0;34m)\u001b[0m\u001b[0;34m\u001b[0m\u001b[0;34m\u001b[0m\u001b[0m\n\u001b[0m",
      "\u001b[0;31mTypeError\u001b[0m: '>' not supported between instances of 'list' and 'int'"
     ]
    }
   ],
   "source": [
    "for u in unpackedLists:\n",
    "    print(np.sum(unpackedLists[u]>1000))"
   ]
  },
  {
   "cell_type": "code",
   "execution_count": 3,
   "id": "7269cf4a",
   "metadata": {},
   "outputs": [
    {
     "ename": "NameError",
     "evalue": "name 'vtx' is not defined",
     "output_type": "error",
     "traceback": [
      "\u001b[0;31m---------------------------------------------------------------------------\u001b[0m",
      "\u001b[0;31mNameError\u001b[0m                                 Traceback (most recent call last)",
      "\u001b[0;32m/tmp/ipykernel_513/210562018.py\u001b[0m in \u001b[0;36m<module>\u001b[0;34m\u001b[0m\n\u001b[1;32m      1\u001b[0m X = {#\"B_mass\" : masses, \n\u001b[0;32m----> 2\u001b[0;31m      \u001b[0;34m\"B_trk1_pT\"\u001b[0m \u001b[0;34m:\u001b[0m \u001b[0mvtx\u001b[0m\u001b[0;34m.\u001b[0m\u001b[0mB_trk1_pT\u001b[0m\u001b[0;34m,\u001b[0m \u001b[0;31m#np.array(tr1Pts)\u001b[0m\u001b[0;34m\u001b[0m\u001b[0;34m\u001b[0m\u001b[0m\n\u001b[0m\u001b[1;32m      3\u001b[0m      \u001b[0;34m\"B_trk2_pT\"\u001b[0m \u001b[0;34m:\u001b[0m \u001b[0mvtx\u001b[0m\u001b[0;34m.\u001b[0m\u001b[0mB_trk2_pT\u001b[0m\u001b[0;34m,\u001b[0m \u001b[0;31m#np.array(tr1Pts)\u001b[0m\u001b[0;34m\u001b[0m\u001b[0;34m\u001b[0m\u001b[0m\n\u001b[1;32m      4\u001b[0m      \"B_Kpi_pT\" : vtx.Kpi_pT} #np.array(tr1Pts)\n\u001b[1;32m      5\u001b[0m \u001b[0;34m\u001b[0m\u001b[0m\n",
      "\u001b[0;31mNameError\u001b[0m: name 'vtx' is not defined"
     ]
    }
   ],
   "source": [
    "X = {#\"B_mass\" : masses, \n",
    "     \"B_trk1_pT\" : vtx.B_trk1_pT, #np.array(tr1Pts)\n",
    "     \"B_trk2_pT\" : vtx.B_trk2_pT, #np.array(tr1Pts)\n",
    "     \"B_Kpi_pT\" : vtx.Kpi_pT} #np.array(tr1Pts)\n",
    "\n",
    "Xlims = {#\"Chi2/ndf\" : [[0,2.5]], \n",
    "     \"B_trk1_pT\" : [0,10000],\n",
    "     \"B_trk2_pT\" : [0,10000],\n",
    "     \"B_Kpi_pT\" : [0,10000]}\n",
    "plt.close()\n",
    "for xName in X:\n",
    "    x = X[xName]\n",
    "    unpackedLists = {\n",
    "        xName : list(chain.from_iterable(x)),\n",
    "        #\"only multiple candidates\" : list(chain.from_iterable(x[multipleCandidates])),\n",
    "        #\"only single candidate\" : list(chain.from_iterable(x[singleCandidate]))\n",
    "    }\n",
    "    print('\\033[1m' + xName + '\\033[0m')\n",
    "    \n",
    "    for yName in unpackedLists:\n",
    "        y = unpackedLists[yName]\n",
    "        print(yName, len(y), np.mean(y), np.std(y))\n",
    "        plt.hist(y, bins=1000, label=yName, density=True,histtype='step')#bins='auto'  # arguments are passed to np.histogram # log=True, \n",
    "        #fig, ax = plt.subplots()\n",
    "\n",
    "    plt.title(\"Histogram of \" + xName )\n",
    "    plt.xlabel(xName)\n",
    "    plt.xlim(Xlims[xName])\n",
    "    plt.legend()\n",
    "plt.show()\n",
    "    #pdf.savefig()\n",
    "    #plt.yscale('log')\n",
    "    #plt.title(\"Histogram of \" + xName +\" (semiLog)\")\n",
    "    #pdf.savefig()\n",
    "#    if xName == \"Lifetime\":\n",
    "#        plt.title(xName +  \" zoom\")\n",
    "#        plt.xlim([-1,2])\n",
    "#        pdf.savefig()\n",
    "#        plt.yscale('linear')\n",
    "#        pdf.savefig()\n",
    "\n",
    "    "
   ]
  },
  {
   "cell_type": "code",
   "execution_count": 58,
   "id": "b540d6cf",
   "metadata": {},
   "outputs": [
    {
     "ename": "TypeError",
     "evalue": "AsJagged content can only be Numerical",
     "output_type": "error",
     "traceback": [
      "\u001b[0;31m---------------------------------------------------------------------------\u001b[0m",
      "\u001b[0;31mTypeError\u001b[0m                                 Traceback (most recent call last)",
      "\u001b[0;32m/tmp/ipykernel_513/3600340676.py\u001b[0m in \u001b[0;36m<module>\u001b[0;34m\u001b[0m\n\u001b[1;32m      1\u001b[0m \u001b[0;31m#Kpi_pT = [np.array(i) for i in Kpi_pT]\u001b[0m\u001b[0;34m\u001b[0m\u001b[0;34m\u001b[0m\u001b[0;34m\u001b[0m\u001b[0m\n\u001b[0;32m----> 2\u001b[0;31m \u001b[0mKpi_pT\u001b[0m \u001b[0;34m=\u001b[0m \u001b[0muproot\u001b[0m\u001b[0;34m.\u001b[0m\u001b[0minterpretation\u001b[0m\u001b[0;34m.\u001b[0m\u001b[0mjagged\u001b[0m\u001b[0;34m.\u001b[0m\u001b[0mAsJagged\u001b[0m\u001b[0;34m(\u001b[0m\u001b[0mKpi_pT\u001b[0m\u001b[0;34m)\u001b[0m\u001b[0;34m\u001b[0m\u001b[0;34m\u001b[0m\u001b[0m\n\u001b[0m\u001b[1;32m      3\u001b[0m \u001b[0mprint\u001b[0m \u001b[0;34m(\u001b[0m\u001b[0mKpi_pT\u001b[0m\u001b[0;34m[\u001b[0m\u001b[0;34m:\u001b[0m\u001b[0;36m10\u001b[0m\u001b[0;34m]\u001b[0m\u001b[0;34m)\u001b[0m\u001b[0;34m\u001b[0m\u001b[0;34m\u001b[0m\u001b[0m\n\u001b[1;32m      4\u001b[0m \u001b[0mprint\u001b[0m\u001b[0;34m(\u001b[0m\u001b[0mvtx\u001b[0m\u001b[0;34m.\u001b[0m\u001b[0mB_trk2_pT\u001b[0m\u001b[0;34m[\u001b[0m\u001b[0;34m:\u001b[0m\u001b[0;36m10\u001b[0m\u001b[0;34m]\u001b[0m\u001b[0;34m)\u001b[0m\u001b[0;34m\u001b[0m\u001b[0;34m\u001b[0m\u001b[0m\n",
      "\u001b[0;32m/cvmfs/sft.cern.ch/lcg/views/LCG_101swan/x86_64-centos7-gcc8-opt/lib/python3.9/site-packages/uproot/interpretation/jagged.py\u001b[0m in \u001b[0;36m__init__\u001b[0;34m(self, content, header_bytes, typename, original)\u001b[0m\n\u001b[1;32m     55\u001b[0m     \u001b[0;32mdef\u001b[0m \u001b[0m__init__\u001b[0m\u001b[0;34m(\u001b[0m\u001b[0mself\u001b[0m\u001b[0;34m,\u001b[0m \u001b[0mcontent\u001b[0m\u001b[0;34m,\u001b[0m \u001b[0mheader_bytes\u001b[0m\u001b[0;34m=\u001b[0m\u001b[0;36m0\u001b[0m\u001b[0;34m,\u001b[0m \u001b[0mtypename\u001b[0m\u001b[0;34m=\u001b[0m\u001b[0;32mNone\u001b[0m\u001b[0;34m,\u001b[0m \u001b[0moriginal\u001b[0m\u001b[0;34m=\u001b[0m\u001b[0;32mNone\u001b[0m\u001b[0;34m)\u001b[0m\u001b[0;34m:\u001b[0m\u001b[0;34m\u001b[0m\u001b[0;34m\u001b[0m\u001b[0m\n\u001b[1;32m     56\u001b[0m         \u001b[0;32mif\u001b[0m \u001b[0;32mnot\u001b[0m \u001b[0misinstance\u001b[0m\u001b[0;34m(\u001b[0m\u001b[0mcontent\u001b[0m\u001b[0;34m,\u001b[0m \u001b[0muproot\u001b[0m\u001b[0;34m.\u001b[0m\u001b[0minterpretation\u001b[0m\u001b[0;34m.\u001b[0m\u001b[0mnumerical\u001b[0m\u001b[0;34m.\u001b[0m\u001b[0mNumerical\u001b[0m\u001b[0;34m)\u001b[0m\u001b[0;34m:\u001b[0m\u001b[0;34m\u001b[0m\u001b[0;34m\u001b[0m\u001b[0m\n\u001b[0;32m---> 57\u001b[0;31m             \u001b[0;32mraise\u001b[0m \u001b[0mTypeError\u001b[0m\u001b[0;34m(\u001b[0m\u001b[0;34m\"AsJagged content can only be Numerical\"\u001b[0m\u001b[0;34m)\u001b[0m\u001b[0;34m\u001b[0m\u001b[0;34m\u001b[0m\u001b[0m\n\u001b[0m\u001b[1;32m     58\u001b[0m         \u001b[0mself\u001b[0m\u001b[0;34m.\u001b[0m\u001b[0m_content\u001b[0m \u001b[0;34m=\u001b[0m \u001b[0mcontent\u001b[0m\u001b[0;34m\u001b[0m\u001b[0;34m\u001b[0m\u001b[0m\n\u001b[1;32m     59\u001b[0m         \u001b[0mself\u001b[0m\u001b[0;34m.\u001b[0m\u001b[0m_header_bytes\u001b[0m \u001b[0;34m=\u001b[0m \u001b[0mheader_bytes\u001b[0m\u001b[0;34m\u001b[0m\u001b[0;34m\u001b[0m\u001b[0m\n",
      "\u001b[0;31mTypeError\u001b[0m: AsJagged content can only be Numerical"
     ]
    }
   ],
   "source": [
    "#Kpi_pT = [np.array(i) for i in Kpi_pT]\n",
    "Kpi_pT = uproot.interpretation.jagged.AsJagged(Kpi_pT)\n",
    "print (Kpi_pT[:10])\n",
    "print(vtx.B_trk2_pT[:10])"
   ]
  },
  {
   "cell_type": "code",
   "execution_count": 10,
   "id": "9765420b",
   "metadata": {},
   "outputs": [
    {
     "name": "stdout",
     "output_type": "stream",
     "text": [
      "cuts prepared 09/11/2021 - 15:45:28\n",
      "pT(Kpi) > 10000\n",
      "pT(Kpi) > 25000\n",
      "pT(Kpi) > 50000\n",
      "pT(Kpi) > 75000\n",
      "pT(Kpi) > 100000\n"
     ]
    }
   ],
   "source": [
    "nCandidates = {}\n",
    "multipleCandidates ={}\n",
    "singleCandidates = {}\n",
    "cuts = {}  \n",
    "\n",
    "a_taus = {}\n",
    "m_taus = {}\n",
    "s_taus = {}\n",
    "\n",
    "#############################pT cuts##########################################\n",
    "pTcuts = [[10000],[25000],[50000],[75000],[100000]] #[2000],[2500],[3000],[3500],[4000],[4500]]\n",
    "    \n",
    "for i,c in enumerate(pTcuts):\n",
    "    \n",
    "    newCuts = vtx.Kpi_pT>c[0]\n",
    "    namePtCut = \"pT(Kpi) > \" + str(c[0]) \n",
    "    cuts[namePtCut] = newCuts\n",
    "    \n",
    "print(\"cuts prepared\",datetime.now().strftime(\"%d/%m/%Y - %H:%M:%S\"))\n",
    "for c in cuts.keys():\n",
    "    print(c)\n",
    "\n"
   ]
  },
  {
   "cell_type": "code",
   "execution_count": null,
   "id": "e24097d7",
   "metadata": {},
   "outputs": [],
   "source": [
    "for i,c in enumerate(cuts):\n",
    "    nCandidates[c] = np.array([len(pT) for pT in vtx.Kpi_pT[cuts[c]]])\n",
    "    a_taus[c] = list(chain.from_iterable(vtx.B_tau_MinA0[cuts[c]]))\n",
    "    \n",
    "    multipleCandidates[c] = np.array(nCandidates[c]>1)\n",
    "    singleCandidates[c] = np.array(nCandidates[c]==1)\n",
    "    #print(a_taus[c])\n",
    "    #print(multipleCandidates[c][:10])\n",
    "    m_taus[c] = list(chain.from_iterable(vtx.B_tau_MinA0[cuts[c]*multipleCandidates[c]]))\n",
    "    s_taus[c] = list(chain.from_iterable(vtx.B_tau_MinA0[cuts[c]*singleCandidates[c]]))\n",
    "    #print()\n",
    "#     print(m_taus[c][:10])\n",
    "    #print(np.mean(m_taus[c][:3]))\n",
    "#     print()\n",
    "    #print(s_taus[c])\n",
    "    #print(np.mean(s_taus[c]))\n",
    "    \n",
    "    print(c, len(nCandidates[c]),np.sum(multipleCandidates[c]),np.sum(singleCandidates[c]),np.mean(a_taus[c]),np.mean(m_taus[c]),np.mean(s_taus[c]))"
   ]
  },
  {
   "cell_type": "code",
   "execution_count": 82,
   "id": "6d4e16e5",
   "metadata": {},
   "outputs": [
    {
     "name": "stdout",
     "output_type": "stream",
     "text": [
      "cut & multipleCand evts & mean(nCand) & mean(tau_all) & mean(tau_multiple) & mean(tau_single) \\\\ \n",
      "pT(Kpi) > 2000 & 39.9% & 1.71 & 0.178 & 0.052 & 0.480 \\\\ \n",
      "pT(Kpi) > 2500 & 36.7% & 1.31 & 0.209 & 0.054 & 0.529 \\\\ \n",
      "pT(Kpi) > 3000 & 34.0% & 1.00 & 0.240 & 0.056 & 0.574 \\\\ \n",
      "pT(Kpi) > 3500 & 31.7% & 0.78 & 0.270 & 0.057 & 0.615 \\\\ \n",
      "pT(Kpi) > 4000 & 29.9% & 0.63 & 0.299 & 0.058 & 0.651 \\\\ \n",
      "pT(Kpi) > 4500 & 28.4% & 0.52 & 0.325 & 0.060 & 0.680 \\\\ \n"
     ]
    }
   ],
   "source": [
    "print (\"cut\", \"multipleCand evts\", 'mean(nCand)','mean(tau_all)','mean(tau_multiple)','mean(tau_single)', sep=' & ', end=' \\\\\\\\ \\n')\n",
    "for i,c in enumerate(cuts):\n",
    "    print (c, '{:2.1%}'.format(np.sum(multipleCandidates[c])/np.sum(multipleCandidates[c]+singleCandidates[c])), '{:0.2f}'.format(np.mean(nCandidates[c])),'{:0.3f}'.format(np.mean(a_taus[c])),'{:0.3f}'.format(np.mean(m_taus[c])),'{:0.3f}'.format(np.mean(s_taus[c])), sep=' & ', end=' \\\\\\\\ \\n')"
   ]
  },
  {
   "cell_type": "code",
   "execution_count": 13,
   "id": "84e5e6bc",
   "metadata": {},
   "outputs": [
    {
     "name": "stdout",
     "output_type": "stream",
     "text": [
      "6464540 4381055 10845595\n"
     ]
    }
   ],
   "source": [
    "\n",
    "\n",
    "t = list(chain.from_iterable(taus))\n",
    "t_multiple = list(chain.from_iterable(taus[multipleCandidates]))\n",
    "t_single = list(chain.from_iterable(taus[singleCandidate]))\n",
    "\n",
    "print(len(t_multiple),len(t_single),len(t))\n",
    "#len(taus)\n",
    "\n",
    "chi = list(chain.from_iterable(chis))\n",
    "chi_multiple = list(chain.from_iterable(chis[multipleCandidates]))\n",
    "chi_single = list(chain.from_iterable(chis[singleCandidate]))"
   ]
  },
  {
   "cell_type": "code",
   "execution_count": 32,
   "id": "03c8c0c6",
   "metadata": {
    "scrolled": true
   },
   "outputs": [
    {
     "data": {
      "application/vnd.jupyter.widget-view+json": {
       "model_id": "",
       "version_major": 2,
       "version_minor": 0
      },
      "text/plain": [
       "Canvas(toolbar=Toolbar(toolitems=[('Home', 'Reset original view', 'home', 'home'), ('Back', 'Back to previous …"
      ]
     },
     "metadata": {},
     "output_type": "display_data"
    }
   ],
   "source": [
    "plt.close()\n",
    "#plt.figure(figsize=(3, 3))\n",
    "plt.hist(t_single, bins=100) #bins='auto'  # arguments are passed to np.histogram\n",
    "plt.title(\"Lifetime for events with single candidates (semiLog)\")\n",
    "plt.xlim([-2, 20])\n",
    "plt.yscale('log') \n",
    "plt.xlabel('tau')\n",
    "pdf.savefig()  # saves the current figure into a pdf page\n",
    "#plt.close()\n",
    "#fig, ax = plt.subplots()\n",
    "plt.show()\n",
    "pdf.close()"
   ]
  },
  {
   "cell_type": "code",
   "execution_count": 61,
   "id": "ec0deada",
   "metadata": {},
   "outputs": [
    {
     "data": {
      "application/vnd.jupyter.widget-view+json": {
       "model_id": "",
       "version_major": 2,
       "version_minor": 0
      },
      "text/plain": [
       "Canvas(toolbar=Toolbar(toolitems=[('Home', 'Reset original view', 'home', 'home'), ('Back', 'Back to previous …"
      ]
     },
     "metadata": {},
     "output_type": "display_data"
    }
   ],
   "source": [
    "plt.hist([t,t_single,t_multiple], bins=100, density=True,histtype='step')#bins='auto'  # arguments are passed to np.histogram\n",
    "#fig, ax = plt.subplots()\n",
    "plt.title(\"Lifetime for events with single candidates (semiLog)\")\n",
    "plt.xlim([-2, 20])\n",
    "#plt.yscale('log')\n",
    "plt.xlabel('tau')\n",
    "plt.show()\n"
   ]
  },
  {
   "cell_type": "code",
   "execution_count": 40,
   "id": "4e35a4c7",
   "metadata": {},
   "outputs": [
    {
     "data": {
      "image/png": "[encoded data removed]",
      "text/plain": [
       "<Figure size 432x288 with 1 Axes>"
      ]
     },
     "metadata": {
      "needs_background": "light"
     },
     "output_type": "display_data"
    }
   ],
   "source": [
    "plt.hist2d(list(chain.from_iterable(X[\"B_trk1_pT\"])),list(chain.from_iterable(X[\"B_trk2_pT\"])) , bins=10,  range=[[1000,2300],[500,2300]], )#density=True,histtype='step')\n",
    "plt.show()"
   ]
  },
  {
   "cell_type": "code",
   "execution_count": 38,
   "id": "2041b682",
   "metadata": {},
   "outputs": [
    {
     "data": {
      "image/png": "[encoded data removed]",
      "text/plain": [
       "<Figure size 432x288 with 1 Axes>"
      ]
     },
     "metadata": {
      "needs_background": "light"
     },
     "output_type": "display_data"
    }
   ],
   "source": [
    "plt.hist2d(list(chain.from_iterable(X[\"B_trk1_pT\"])),list(chain.from_iterable(X[\"B_trk2_pT\"])) , bins=20,  range=[[1000,2300],[1000,2300]], )#density=True,histtype='step')\n",
    "plt.show()"
   ]
  },
  {
   "cell_type": "code",
   "execution_count": 47,
   "id": "95c9acc9",
   "metadata": {},
   "outputs": [
    {
     "data": {
      "image/png": "[encoded data removed]",
      "text/plain": [
       "<Figure size 432x288 with 1 Axes>"
      ]
     },
     "metadata": {
      "needs_background": "light"
     },
     "output_type": "display_data"
    },
    {
     "name": "stdout",
     "output_type": "stream",
     "text": [
      "[0.45417517 0.21696737 0.11982849 0.07237307 0.04539903 0.03151262\n",
      " 0.02193373 0.01609464 0.01205778 0.0096581 ]\n"
     ]
    }
   ],
   "source": [
    "your_bins=10\n",
    "arr = plt.hist(list(chain.from_iterable(np.array(vtx.B_trk1_pT[multipleCandidates]))),range=[1000,5000], bins=your_bins, label=\"nBin/nHist\")\n",
    "\n",
    "for i in range(your_bins):\n",
    "    plt.text(arr[1][i],0.95*arr[0][i],'{:0.3f}'.format(arr[0][i]/np.sum(arr[0])))\n",
    "\n",
    "plt.title(\"multiple candidates \")\n",
    "plt.xlabel('B_trk1_pT (kaon)')    \n",
    "plt.legend()    \n",
    "plt.show()\n",
    "\n",
    "n = arr\n",
    "print(n[0]/np.sum(n[0]))"
   ]
  },
  {
   "cell_type": "code",
   "execution_count": 34,
   "id": "3a9832cd",
   "metadata": {},
   "outputs": [
    {
     "data": {
      "image/png": "[encoded data removed]",
      "text/plain": [
       "<Figure size 432x288 with 1 Axes>"
      ]
     },
     "metadata": {
      "needs_background": "light"
     },
     "output_type": "display_data"
    },
    {
     "name": "stdout",
     "output_type": "stream",
     "text": [
      "[0.45967406 0.21241872 0.11325442 0.06816647 0.04517548 0.03221282\n",
      " 0.02380168 0.01834153 0.01480077 0.01215405]\n"
     ]
    }
   ],
   "source": [
    "your_bins=10\n",
    "arr = plt.hist(list(chain.from_iterable(np.array(vtx.B_trk1_pT[singleCandidate]))),range=[1000,5000], bins=your_bins, label=\"multipleCandidates\")\n",
    "\n",
    "for i in range(your_bins):\n",
    "    plt.text(arr[1][i],0.95*arr[0][i],'{:0.3f}'.format(arr[0][i]/np.sum(arr[0])))\n",
    "    \n",
    "plt.show()\n",
    "n = arr\n",
    "print(n[0]/np.sum(n[0]))"
   ]
  },
  {
   "cell_type": "code",
   "execution_count": 33,
   "id": "19da742b",
   "metadata": {},
   "outputs": [
    {
     "data": {
      "image/png": "[encoded data removed]",
      "text/plain": [
       "<Figure size 432x288 with 1 Axes>"
      ]
     },
     "metadata": {
      "needs_background": "light"
     },
     "output_type": "display_data"
    },
    {
     "name": "stdout",
     "output_type": "stream",
     "text": [
      "[0.45754588 0.21417914 0.11579871 0.06979451 0.045262   0.03194183\n",
      " 0.02307875 0.01747194 0.01373918 0.01118807]\n"
     ]
    }
   ],
   "source": [
    "your_bins=10\n",
    "arr = plt.hist(list(chain.from_iterable(np.array(vtx.B_trk1_pT))),range=[1000,5000], bins=your_bins)\n",
    "\n",
    "for i in range(your_bins):\n",
    "    plt.text(arr[1][i],0.95*arr[0][i],'{:0.3f}'.format(arr[0][i]/np.sum(arr[0])))\n",
    "    \n",
    "plt.show()\n",
    "n = arr\n",
    "print(n[0]/np.sum(n[0]))"
   ]
  },
  {
   "cell_type": "code",
   "execution_count": 42,
   "id": "b268b13a",
   "metadata": {},
   "outputs": [
    {
     "data": {
      "image/png": "[encoded data removed]",
      "text/plain": [
       "<Figure size 432x288 with 1 Axes>"
      ]
     },
     "metadata": {
      "needs_background": "light"
     },
     "output_type": "display_data"
    },
    {
     "name": "stdout",
     "output_type": "stream",
     "text": [
      "[0.43474622 0.22288342 0.13628655 0.08404653 0.04703804 0.02892582\n",
      " 0.01839853 0.0123993  0.00872576 0.00654982]\n"
     ]
    }
   ],
   "source": [
    "your_bins=10\n",
    "arr = plt.hist(list(chain.from_iterable(np.array(vtx.B_trk2_pT[multipleCandidates]))),range=[1000,5000], bins=your_bins, label=\"multipleCandidates\")\n",
    "\n",
    "for i in range(your_bins):\n",
    "    plt.text(arr[1][i],0.95*arr[0][i],'{:0.3f}'.format(arr[0][i]/np.sum(arr[0])))\n",
    "    \n",
    "plt.show()\n",
    "n = arr\n",
    "print(n[0]/np.sum(n[0]))"
   ]
  },
  {
   "cell_type": "code",
   "execution_count": 43,
   "id": "39251750",
   "metadata": {},
   "outputs": [
    {
     "data": {
      "image/png": "[encoded data removed]",
      "text/plain": [
       "<Figure size 432x288 with 1 Axes>"
      ]
     },
     "metadata": {
      "needs_background": "light"
     },
     "output_type": "display_data"
    },
    {
     "name": "stdout",
     "output_type": "stream",
     "text": [
      "[0.45967406 0.21241872 0.11325442 0.06816647 0.04517548 0.03221282\n",
      " 0.02380168 0.01834153 0.01480077 0.01215405]\n"
     ]
    }
   ],
   "source": [
    "your_bins=10\n",
    "arr = plt.hist(list(chain.from_iterable(np.array(vtx.B_trk1_pT[singleCandidate]))),range=[1000,5000], bins=your_bins, label=\"singleCandidate\")\n",
    "\n",
    "for i in range(your_bins):\n",
    "    plt.text(arr[1][i],0.95*arr[0][i],'{:0.3f}'.format(arr[0][i]/np.sum(arr[0])))\n",
    "    \n",
    "plt.show()\n",
    "n = arr\n",
    "print(n[0]/np.sum(n[0]))"
   ]
  },
  {
   "cell_type": "code",
   "execution_count": 44,
   "id": "bb358b73",
   "metadata": {},
   "outputs": [
    {
     "data": {
      "image/png": "[encoded data removed]",
      "text/plain": [
       "<Figure size 432x288 with 1 Axes>"
      ]
     },
     "metadata": {
      "needs_background": "light"
     },
     "output_type": "display_data"
    },
    {
     "name": "stdout",
     "output_type": "stream",
     "text": [
      "[0.45754588 0.21417914 0.11579871 0.06979451 0.045262   0.03194183\n",
      " 0.02307875 0.01747194 0.01373918 0.01118807]\n"
     ]
    }
   ],
   "source": [
    "your_bins=10\n",
    "arr = plt.hist(list(chain.from_iterable(np.array(vtx.B_trk1_pT))),range=[1000,5000], bins=your_bins, label=\"allCandidates\")\n",
    "\n",
    "for i in range(your_bins):\n",
    "    plt.text(arr[1][i],0.95*arr[0][i],'{:0.3f}'.format(arr[0][i]/np.sum(arr[0])))\n",
    "    \n",
    "plt.show()\n",
    "n = arr\n",
    "print(n[0]/np.sum(n[0]))"
   ]
  },
  {
   "cell_type": "code",
   "execution_count": 16,
   "id": "12bd60b3",
   "metadata": {},
   "outputs": [
    {
     "name": "stdout",
     "output_type": "stream",
     "text": [
      "[ True False False False] [False False  True  True]\n",
      "[False False False False]\n",
      "[ True False  True  True]\n"
     ]
    }
   ],
   "source": [
    "a = np.array([1,2,3,4,])\n",
    "l = (a<2)\n",
    "g = (a>2) \n",
    "\n",
    "print(l,g)\n",
    "print(l&g)\n",
    "print(l|g)"
   ]
  },
  {
   "cell_type": "code",
   "execution_count": 16,
   "id": "acc846f9",
   "metadata": {},
   "outputs": [
    {
     "name": "stdout",
     "output_type": "stream",
     "text": [
      "\u001b[1mBplus 2017  \u001b[0m\n"
     ]
    },
    {
     "data": {
      "text/plain": [
       "''"
      ]
     },
     "execution_count": 16,
     "metadata": {},
     "output_type": "execute_result"
    }
   ],
   "source": [
    "pdf = FPDF()\n",
    "pdf.add_page()\n",
    "pdf.set_font(\"Times\", 'B', size = 15)\n",
    "  \n",
    "# create a cell\n",
    "pdf.cell(200, 10, txt = name + ' 2017 (2.5 M subset) ', \n",
    "         ln = 1, align = 'C')\n",
    "\n",
    "pdf.set_font(\"Times\", size = 12)\n",
    "pdf.set_text_color(200,200,200);\n",
    "\n",
    "# add another cell\n",
    "pdf.cell(200, 8, txt = file_name,\n",
    "         ln = 2, align = 'C')\n",
    "pdf.cell(200, 6, txt = \"Marek Biros\",\n",
    "         ln = 3, align = 'C')\n",
    "  \n",
    "# save the pdf with name .pdf\n",
    "pdf.set_text_color(0,0,0);\n",
    "\n",
    "pdf.set_font(\"Times\", 'BU', size = 12)\n",
    "line = 5\n",
    "pdf.cell(200, 8, txt = \"cutFlow\",\n",
    "         ln = line, align = 'C')\n",
    "line += 2\n",
    "\n",
    "print('\\033[1m' + name + ' 2017  \\033[0m')\n",
    "\n",
    "\n",
    "pdf.set_font(\"Times\",'B', size = 10)\n",
    "pdf.cell(200, 6, txt = \"no selection\", \n",
    "         ln = line, align = 'L')\n",
    "line += 1\n",
    "pdf.set_font(\"Times\", size = 10)\n",
    "pdf.cell(200, 5, txt = \"nEvents: \"+str(nEvents), \n",
    "         ln = line, align = 'L')\n",
    "line += 1\n",
    "pdf.cell(200, 5, txt = \"nEventsWithMultipleCandidates: \"+str(np.sum(multipleCandidates))+\"; nEventsWithSingleCandidate: \"+str(np.sum(singleCandidate))+\"; nCandidates: \"+str(np.sum(nCandidates)), \n",
    "         ln = line, align = 'L')\n",
    "line += 1\n",
    "pdf.cell(200, 5, txt = '{:2.2%}'.format(np.sum(multipleCandidates)/len(vtx.evt_number))+' events have multiple candidates; mean(nCandidatesPerEvent): {:0.2f}'.format(np.sum(nCandidates)/nEvents), \n",
    "         ln = line, align = 'L')\n",
    "line += 2\n",
    "\n",
    "pdf.line(10, 65, 200, 65)\n",
    "pdf.cell(200, 5, txt = \"\", \n",
    "         ln = line, align = 'L')\n",
    "\n",
    "pdf.set_font(\"Times\",\"B\", size = 10)\n",
    "pdf.cell(200, 5, txt = \"new default after baseline cuts\", \n",
    "         ln = line, align = 'L')\n",
    "line += 1\n",
    "pdf.set_font(\"Times\", size = 10)\n",
    "pdf.cell(200, 5, txt = \"nEvents: \"+str(nEvents)+'; nEventsAfterCut/nEvents: 100%', \n",
    "         ln = line, align = 'L')\n",
    "line += 1\n",
    "pdf.cell(200, 5, txt = \"nEventsWithMultipleCandidates: \"+str(np.sum(multipleCandidates))+\"; nEventsWithSingleCandidate: \"+str(np.sum(singleCandidate))+\"; nCandidates: \"+str(np.sum(nCandidates)), \n",
    "         ln = line, align = 'L')\n",
    "line += 1\n",
    "pdf.cell(200, 5, txt = '{:2.2%}'.format(np.sum(multipleCandidates)/nEvents)+' events have multiple candidates; mean(nCandidatesPerEvent): {:0.2f}'.format(np.sum(nCandidates)/nEvents), \n",
    "         ln = line, align = 'L')\n",
    "line += 2\n",
    "\n",
    "  \n",
    "pdf.output(\"test.pdf\")"
   ]
  },
  {
   "cell_type": "code",
   "execution_count": null,
   "id": "43a45a15",
   "metadata": {},
   "outputs": [],
   "source": []
  }
 ],
 "metadata": {
  "kernelspec": {
   "display_name": "Python 3 (ipykernel)",
   "language": "python",
   "name": "python3"
  },
  "language_info": {
   "codemirror_mode": {
    "name": "ipython",
    "version": 3
   },
   "file_extension": ".py",
   "mimetype": "text/x-python",
   "name": "python",
   "nbconvert_exporter": "python",
   "pygments_lexer": "ipython3",
   "version": "3.10.6"
  },
  "toc": {
   "base_numbering": 1,
   "nav_menu": {},
   "number_sections": true,
   "sideBar": true,
   "skip_h1_title": false,
   "title_cell": "Table of Contents",
   "title_sidebar": "Contents",
   "toc_cell": false,
   "toc_position": {
    "height": "calc(100% - 180px)",
    "left": "10px",
    "top": "150px",
    "width": "227.233px"
   },
   "toc_section_display": true,
   "toc_window_display": false
  }
 },
 "nbformat": 4,
 "nbformat_minor": 5
}
